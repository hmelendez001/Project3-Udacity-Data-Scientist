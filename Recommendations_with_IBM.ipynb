{
 "cells": [
  {
   "cell_type": "markdown",
   "metadata": {},
   "source": [
    "# Recommendations with IBM\n",
    "\n",
    "In this notebook, you will be putting your recommendation skills to use on real data from the IBM Watson Studio platform. \n",
    "\n",
    "\n",
    "You may either submit your notebook through the workspace here, or you may work from your local machine and submit through the next page.  Either way assure that your code passes the project [RUBRIC](https://review.udacity.com/#!/rubrics/2322/view).  **Please save regularly.**\n",
    "\n",
    "By following the table of contents, you will build out a number of different methods for making recommendations that can be used for different situations. \n",
    "\n",
    "\n",
    "## Table of Contents\n",
    "\n",
    "I. [Exploratory Data Analysis](#Exploratory-Data-Analysis)<br>\n",
    "II. [Rank Based Recommendations](#Rank)<br>\n",
    "III. [User-User Based Collaborative Filtering](#User-User)<br>\n",
    "IV. [Content Based Recommendations (EXTRA - NOT REQUIRED)](#Content-Recs)<br>\n",
    "V. [Matrix Factorization](#Matrix-Fact)<br>\n",
    "VI. [Extras & Concluding](#conclusions)\n",
    "\n",
    "At the end of the notebook, you will find directions for how to submit your work.  Let's get started by importing the necessary libraries and reading in the data."
   ]
  },
  {
   "cell_type": "code",
   "execution_count": 51,
   "metadata": {},
   "outputs": [
    {
     "name": "stdout",
     "output_type": "stream",
     "text": [
      "Requirement already satisfied: matplotlib in c:\\users\\e085982\\appdata\\local\\programs\\python\\python39\\lib\\site-packages (3.5.1)\n",
      "Requirement already satisfied: python-dateutil>=2.7 in c:\\users\\e085982\\appdata\\local\\programs\\python\\python39\\lib\\site-packages (from matplotlib) (2.8.2)\n",
      "Requirement already satisfied: packaging>=20.0 in c:\\users\\e085982\\appdata\\local\\programs\\python\\python39\\lib\\site-packages (from matplotlib) (21.3)\n",
      "Requirement already satisfied: fonttools>=4.22.0 in c:\\users\\e085982\\appdata\\local\\programs\\python\\python39\\lib\\site-packages (from matplotlib) (4.28.4)\n",
      "Requirement already satisfied: pyparsing>=2.2.1 in c:\\users\\e085982\\appdata\\local\\programs\\python\\python39\\lib\\site-packages (from matplotlib) (3.0.6)\n",
      "Requirement already satisfied: numpy>=1.17 in c:\\users\\e085982\\appdata\\local\\programs\\python\\python39\\lib\\site-packages (from matplotlib) (1.21.4)\n",
      "Requirement already satisfied: kiwisolver>=1.0.1 in c:\\users\\e085982\\appdata\\local\\programs\\python\\python39\\lib\\site-packages (from matplotlib) (1.3.2)\n",
      "Requirement already satisfied: cycler>=0.10 in c:\\users\\e085982\\appdata\\local\\programs\\python\\python39\\lib\\site-packages (from matplotlib) (0.11.0)\n",
      "Requirement already satisfied: pillow>=6.2.0 in c:\\users\\e085982\\appdata\\local\\programs\\python\\python39\\lib\\site-packages (from matplotlib) (8.4.0)\n",
      "Requirement already satisfied: six>=1.5 in c:\\users\\e085982\\appdata\\local\\programs\\python\\python39\\lib\\site-packages (from python-dateutil>=2.7->matplotlib) (1.16.0)\n",
      "Processing c:\\users\\e085982\\source\\udacity\\project3-udacity-data-scientist-main\\wordcloud-1.8.1-cp39-cp39-win_amd64.whl\n",
      "Requirement already satisfied: pillow in c:\\users\\e085982\\appdata\\local\\programs\\python\\python39\\lib\\site-packages (from wordcloud==1.8.1) (8.4.0)\n",
      "Requirement already satisfied: matplotlib in c:\\users\\e085982\\appdata\\local\\programs\\python\\python39\\lib\\site-packages (from wordcloud==1.8.1) (3.5.1)\n",
      "Requirement already satisfied: numpy>=1.6.1 in c:\\users\\e085982\\appdata\\local\\programs\\python\\python39\\lib\\site-packages (from wordcloud==1.8.1) (1.21.4)\n",
      "Requirement already satisfied: packaging>=20.0 in c:\\users\\e085982\\appdata\\local\\programs\\python\\python39\\lib\\site-packages (from matplotlib->wordcloud==1.8.1) (21.3)\n",
      "Requirement already satisfied: cycler>=0.10 in c:\\users\\e085982\\appdata\\local\\programs\\python\\python39\\lib\\site-packages (from matplotlib->wordcloud==1.8.1) (0.11.0)\n",
      "Requirement already satisfied: python-dateutil>=2.7 in c:\\users\\e085982\\appdata\\local\\programs\\python\\python39\\lib\\site-packages (from matplotlib->wordcloud==1.8.1) (2.8.2)\n",
      "Requirement already satisfied: pyparsing>=2.2.1 in c:\\users\\e085982\\appdata\\local\\programs\\python\\python39\\lib\\site-packages (from matplotlib->wordcloud==1.8.1) (3.0.6)\n",
      "Requirement already satisfied: fonttools>=4.22.0 in c:\\users\\e085982\\appdata\\local\\programs\\python\\python39\\lib\\site-packages (from matplotlib->wordcloud==1.8.1) (4.28.4)\n",
      "Requirement already satisfied: kiwisolver>=1.0.1 in c:\\users\\e085982\\appdata\\local\\programs\\python\\python39\\lib\\site-packages (from matplotlib->wordcloud==1.8.1) (1.3.2)\n",
      "Requirement already satisfied: six>=1.5 in c:\\users\\e085982\\appdata\\local\\programs\\python\\python39\\lib\\site-packages (from python-dateutil>=2.7->matplotlib->wordcloud==1.8.1) (1.16.0)\n",
      "wordcloud is already installed with the same version as the provided wheel. Use --force-reinstall to force an installation of the wheel.\n"
     ]
    }
   ],
   "source": [
    "# From: https://jakevdp.github.io/blog/2017/12/05/installing-python-packages-from-jupyter/\n",
    "# Install a pip package in the current Jupyter kernel\n",
    "import sys\n",
    "!{sys.executable} -m pip install matplotlib\n",
    "!py -3.9 -m pip install wordcloud-1.8.1-cp39-cp39-win_amd64.whl"
   ]
  },
  {
   "cell_type": "code",
   "execution_count": 52,
   "metadata": {},
   "outputs": [
    {
     "data": {
      "text/html": [
       "<div>\n",
       "<style scoped>\n",
       "    .dataframe tbody tr th:only-of-type {\n",
       "        vertical-align: middle;\n",
       "    }\n",
       "\n",
       "    .dataframe tbody tr th {\n",
       "        vertical-align: top;\n",
       "    }\n",
       "\n",
       "    .dataframe thead th {\n",
       "        text-align: right;\n",
       "    }\n",
       "</style>\n",
       "<table border=\"1\" class=\"dataframe\">\n",
       "  <thead>\n",
       "    <tr style=\"text-align: right;\">\n",
       "      <th></th>\n",
       "      <th>article_id</th>\n",
       "      <th>title</th>\n",
       "      <th>email</th>\n",
       "    </tr>\n",
       "  </thead>\n",
       "  <tbody>\n",
       "    <tr>\n",
       "      <th>0</th>\n",
       "      <td>1430.0</td>\n",
       "      <td>using pixiedust for fast, flexible, and easier...</td>\n",
       "      <td>ef5f11f77ba020cd36e1105a00ab868bbdbf7fe7</td>\n",
       "    </tr>\n",
       "    <tr>\n",
       "      <th>1</th>\n",
       "      <td>1314.0</td>\n",
       "      <td>healthcare python streaming application demo</td>\n",
       "      <td>083cbdfa93c8444beaa4c5f5e0f5f9198e4f9e0b</td>\n",
       "    </tr>\n",
       "    <tr>\n",
       "      <th>2</th>\n",
       "      <td>1429.0</td>\n",
       "      <td>use deep learning for image classification</td>\n",
       "      <td>b96a4f2e92d8572034b1e9b28f9ac673765cd074</td>\n",
       "    </tr>\n",
       "    <tr>\n",
       "      <th>3</th>\n",
       "      <td>1338.0</td>\n",
       "      <td>ml optimization using cognitive assistant</td>\n",
       "      <td>06485706b34a5c9bf2a0ecdac41daf7e7654ceb7</td>\n",
       "    </tr>\n",
       "    <tr>\n",
       "      <th>4</th>\n",
       "      <td>1276.0</td>\n",
       "      <td>deploy your python model as a restful api</td>\n",
       "      <td>f01220c46fc92c6e6b161b1849de11faacd7ccb2</td>\n",
       "    </tr>\n",
       "  </tbody>\n",
       "</table>\n",
       "</div>"
      ],
      "text/plain": [
       "   article_id                                              title  \\\n",
       "0      1430.0  using pixiedust for fast, flexible, and easier...   \n",
       "1      1314.0       healthcare python streaming application demo   \n",
       "2      1429.0         use deep learning for image classification   \n",
       "3      1338.0          ml optimization using cognitive assistant   \n",
       "4      1276.0          deploy your python model as a restful api   \n",
       "\n",
       "                                      email  \n",
       "0  ef5f11f77ba020cd36e1105a00ab868bbdbf7fe7  \n",
       "1  083cbdfa93c8444beaa4c5f5e0f5f9198e4f9e0b  \n",
       "2  b96a4f2e92d8572034b1e9b28f9ac673765cd074  \n",
       "3  06485706b34a5c9bf2a0ecdac41daf7e7654ceb7  \n",
       "4  f01220c46fc92c6e6b161b1849de11faacd7ccb2  "
      ]
     },
     "execution_count": 52,
     "metadata": {},
     "output_type": "execute_result"
    }
   ],
   "source": [
    "import pandas as pd\n",
    "import numpy as np\n",
    "import matplotlib.pyplot as plt\n",
    "import project_tests as t\n",
    "import pickle\n",
    "\n",
    "%matplotlib inline\n",
    "\n",
    "df = pd.read_csv('data/user-item-interactions.csv')\n",
    "df_content = pd.read_csv('data/articles_community.csv')\n",
    "del df['Unnamed: 0']\n",
    "del df_content['Unnamed: 0']\n",
    "\n",
    "# Show df to get an idea of the data\n",
    "df.head()"
   ]
  },
  {
   "cell_type": "code",
   "execution_count": 53,
   "metadata": {},
   "outputs": [
    {
     "data": {
      "text/html": [
       "<div>\n",
       "<style scoped>\n",
       "    .dataframe tbody tr th:only-of-type {\n",
       "        vertical-align: middle;\n",
       "    }\n",
       "\n",
       "    .dataframe tbody tr th {\n",
       "        vertical-align: top;\n",
       "    }\n",
       "\n",
       "    .dataframe thead th {\n",
       "        text-align: right;\n",
       "    }\n",
       "</style>\n",
       "<table border=\"1\" class=\"dataframe\">\n",
       "  <thead>\n",
       "    <tr style=\"text-align: right;\">\n",
       "      <th></th>\n",
       "      <th>doc_body</th>\n",
       "      <th>doc_description</th>\n",
       "      <th>doc_full_name</th>\n",
       "      <th>doc_status</th>\n",
       "      <th>article_id</th>\n",
       "    </tr>\n",
       "  </thead>\n",
       "  <tbody>\n",
       "    <tr>\n",
       "      <th>0</th>\n",
       "      <td>Skip navigation Sign in SearchLoading...\\r\\n\\r...</td>\n",
       "      <td>Detect bad readings in real time using Python ...</td>\n",
       "      <td>Detect Malfunctioning IoT Sensors with Streami...</td>\n",
       "      <td>Live</td>\n",
       "      <td>0</td>\n",
       "    </tr>\n",
       "    <tr>\n",
       "      <th>1</th>\n",
       "      <td>No Free Hunch Navigation * kaggle.com\\r\\n\\r\\n ...</td>\n",
       "      <td>See the forest, see the trees. Here lies the c...</td>\n",
       "      <td>Communicating data science: A guide to present...</td>\n",
       "      <td>Live</td>\n",
       "      <td>1</td>\n",
       "    </tr>\n",
       "    <tr>\n",
       "      <th>2</th>\n",
       "      <td>☰ * Login\\r\\n * Sign Up\\r\\n\\r\\n * Learning Pat...</td>\n",
       "      <td>Here’s this week’s news in Data Science and Bi...</td>\n",
       "      <td>This Week in Data Science (April 18, 2017)</td>\n",
       "      <td>Live</td>\n",
       "      <td>2</td>\n",
       "    </tr>\n",
       "    <tr>\n",
       "      <th>3</th>\n",
       "      <td>DATALAYER: HIGH THROUGHPUT, LOW LATENCY AT SCA...</td>\n",
       "      <td>Learn how distributed DBs solve the problem of...</td>\n",
       "      <td>DataLayer Conference: Boost the performance of...</td>\n",
       "      <td>Live</td>\n",
       "      <td>3</td>\n",
       "    </tr>\n",
       "    <tr>\n",
       "      <th>4</th>\n",
       "      <td>Skip navigation Sign in SearchLoading...\\r\\n\\r...</td>\n",
       "      <td>This video demonstrates the power of IBM DataS...</td>\n",
       "      <td>Analyze NY Restaurant data using Spark in DSX</td>\n",
       "      <td>Live</td>\n",
       "      <td>4</td>\n",
       "    </tr>\n",
       "  </tbody>\n",
       "</table>\n",
       "</div>"
      ],
      "text/plain": [
       "                                            doc_body  \\\n",
       "0  Skip navigation Sign in SearchLoading...\\r\\n\\r...   \n",
       "1  No Free Hunch Navigation * kaggle.com\\r\\n\\r\\n ...   \n",
       "2  ☰ * Login\\r\\n * Sign Up\\r\\n\\r\\n * Learning Pat...   \n",
       "3  DATALAYER: HIGH THROUGHPUT, LOW LATENCY AT SCA...   \n",
       "4  Skip navigation Sign in SearchLoading...\\r\\n\\r...   \n",
       "\n",
       "                                     doc_description  \\\n",
       "0  Detect bad readings in real time using Python ...   \n",
       "1  See the forest, see the trees. Here lies the c...   \n",
       "2  Here’s this week’s news in Data Science and Bi...   \n",
       "3  Learn how distributed DBs solve the problem of...   \n",
       "4  This video demonstrates the power of IBM DataS...   \n",
       "\n",
       "                                       doc_full_name doc_status  article_id  \n",
       "0  Detect Malfunctioning IoT Sensors with Streami...       Live           0  \n",
       "1  Communicating data science: A guide to present...       Live           1  \n",
       "2         This Week in Data Science (April 18, 2017)       Live           2  \n",
       "3  DataLayer Conference: Boost the performance of...       Live           3  \n",
       "4      Analyze NY Restaurant data using Spark in DSX       Live           4  "
      ]
     },
     "execution_count": 53,
     "metadata": {},
     "output_type": "execute_result"
    }
   ],
   "source": [
    "# Show df_content to get an idea of the data\n",
    "df_content.head()"
   ]
  },
  {
   "cell_type": "markdown",
   "metadata": {},
   "source": [
    "### <a class=\"anchor\" id=\"Exploratory-Data-Analysis\">Part I : Exploratory Data Analysis</a>\n",
    "\n",
    "Use the dictionary and cells below to provide some insight into the descriptive statistics of the data.\n",
    "\n",
    "`1.` What is the distribution of how many articles a user interacts with in the dataset?  Provide a visual and descriptive statistics to assist with giving a look at the number of times each user interacts with an article.  "
   ]
  },
  {
   "cell_type": "code",
   "execution_count": 54,
   "metadata": {},
   "outputs": [
    {
     "name": "stdout",
     "output_type": "stream",
     "text": [
      "median_val: 3, max_views_by_user: 364\n"
     ]
    }
   ],
   "source": [
    "# Fill in the median and maximum number of user_article interactios below\n",
    "median_val = df['email'].value_counts()[int(len(df['email'].value_counts())/2)]# 50% of individuals interact with ____ number of articles or fewer.\n",
    "max_views_by_user = df['email'].value_counts()[0] # The maximum number of user-article interactions by any 1 user is ______.\n",
    "print(\"median_val: {}, max_views_by_user: {}\".format(median_val, max_views_by_user))"
   ]
  },
  {
   "cell_type": "markdown",
   "metadata": {},
   "source": [
    "`2.` Explore and remove duplicate articles from the **df_content** dataframe.  "
   ]
  },
  {
   "cell_type": "code",
   "execution_count": 55,
   "metadata": {},
   "outputs": [
    {
     "name": "stdout",
     "output_type": "stream",
     "text": [
      "Duplicates found: 5\n"
     ]
    }
   ],
   "source": [
    "# Find and explore duplicate articles\n",
    "duplicates_count = df_content.article_id.duplicated().sum()\n",
    "print (\"Duplicates found: {}\".format(duplicates_count)) # first time = 5: after drop_duplicates = 0"
   ]
  },
  {
   "cell_type": "code",
   "execution_count": 56,
   "metadata": {},
   "outputs": [
    {
     "name": "stdout",
     "output_type": "stream",
     "text": [
      "Duplicates found after removal: 0\n"
     ]
    }
   ],
   "source": [
    "# Remove any rows that have the same article_id - only keep the first\n",
    "df_content.drop_duplicates(subset=['article_id'], keep='first', inplace = True)\n",
    "duplicates_count = df_content.article_id.duplicated().sum()\n",
    "assert duplicates_count == 0, \"The duplicate count should have dropped to zero, something is wrong.\"\n",
    "print (\"Duplicates found after removal: {}\".format(duplicates_count))"
   ]
  },
  {
   "cell_type": "markdown",
   "metadata": {},
   "source": [
    "`3.` Use the cells below to find:\n",
    "\n",
    "**a.** The number of unique articles that have an interaction with a user.  \n",
    "**b.** The number of unique articles in the dataset (whether they have any interactions or not).<br>\n",
    "**c.** The number of unique users in the dataset. (excluding null values) <br>\n",
    "**d.** The number of user-article interactions in the dataset."
   ]
  },
  {
   "cell_type": "code",
   "execution_count": 57,
   "metadata": {},
   "outputs": [
    {
     "name": "stdout",
     "output_type": "stream",
     "text": [
      "unique_articles: 714, total_articles: 1051, unique_users: 5148, user_article_interactions: 45993\n"
     ]
    }
   ],
   "source": [
    "unique_articles = np.sum(df.groupby('article_id')['article_id'].nunique())# The number of unique articles that have at least one interaction\n",
    "total_articles = np.sum(df_content['article_id'].value_counts())# The number of unique articles on the IBM platform\n",
    "unique_users = np.sum(df.groupby('email')['email'].nunique())# The number of unique users\n",
    "user_article_interactions = df.shape[0]# The number of user-article interactions\n",
    "print(\"unique_articles: {}, total_articles: {}, unique_users: {}, user_article_interactions: {}\".format(unique_articles, total_articles, unique_users, user_article_interactions))"
   ]
  },
  {
   "cell_type": "markdown",
   "metadata": {},
   "source": [
    "`4.` Use the cells below to find the most viewed **article_id**, as well as how often it was viewed.  After talking to the company leaders, the `email_mapper` function was deemed a reasonable way to map users to ids.  There were a small number of null values, and it was found that all of these null values likely belonged to a single user (which is how they are stored using the function below)."
   ]
  },
  {
   "cell_type": "code",
   "execution_count": 58,
   "metadata": {},
   "outputs": [
    {
     "data": {
      "text/html": [
       "<div>\n",
       "<style scoped>\n",
       "    .dataframe tbody tr th:only-of-type {\n",
       "        vertical-align: middle;\n",
       "    }\n",
       "\n",
       "    .dataframe tbody tr th {\n",
       "        vertical-align: top;\n",
       "    }\n",
       "\n",
       "    .dataframe thead th {\n",
       "        text-align: right;\n",
       "    }\n",
       "</style>\n",
       "<table border=\"1\" class=\"dataframe\">\n",
       "  <thead>\n",
       "    <tr style=\"text-align: right;\">\n",
       "      <th></th>\n",
       "      <th>article_id</th>\n",
       "      <th>views</th>\n",
       "    </tr>\n",
       "  </thead>\n",
       "  <tbody>\n",
       "    <tr>\n",
       "      <th>699</th>\n",
       "      <td>1429.0</td>\n",
       "      <td>937</td>\n",
       "    </tr>\n",
       "  </tbody>\n",
       "</table>\n",
       "</div>"
      ],
      "text/plain": [
       "     article_id  views\n",
       "699      1429.0    937"
      ]
     },
     "execution_count": 58,
     "metadata": {},
     "output_type": "execute_result"
    }
   ],
   "source": [
    "views_df = df.groupby('article_id').size().reset_index(name='views').sort_values(['views'], ascending=False).head(10)\n",
    "views_df.head(1)"
   ]
  },
  {
   "cell_type": "code",
   "execution_count": 59,
   "metadata": {},
   "outputs": [],
   "source": [
    "most_viewed_article_id = '1429.0'# The most viewed article in the dataset as a string with one value following the decimal \n",
    "max_views = 937# The most viewed article in the dataset was viewed how many times?"
   ]
  },
  {
   "cell_type": "code",
   "execution_count": 60,
   "metadata": {},
   "outputs": [
    {
     "data": {
      "text/html": [
       "<div>\n",
       "<style scoped>\n",
       "    .dataframe tbody tr th:only-of-type {\n",
       "        vertical-align: middle;\n",
       "    }\n",
       "\n",
       "    .dataframe tbody tr th {\n",
       "        vertical-align: top;\n",
       "    }\n",
       "\n",
       "    .dataframe thead th {\n",
       "        text-align: right;\n",
       "    }\n",
       "</style>\n",
       "<table border=\"1\" class=\"dataframe\">\n",
       "  <thead>\n",
       "    <tr style=\"text-align: right;\">\n",
       "      <th></th>\n",
       "      <th>article_id</th>\n",
       "      <th>title</th>\n",
       "      <th>user_id</th>\n",
       "    </tr>\n",
       "  </thead>\n",
       "  <tbody>\n",
       "    <tr>\n",
       "      <th>0</th>\n",
       "      <td>1430.0</td>\n",
       "      <td>using pixiedust for fast, flexible, and easier...</td>\n",
       "      <td>1</td>\n",
       "    </tr>\n",
       "    <tr>\n",
       "      <th>1</th>\n",
       "      <td>1314.0</td>\n",
       "      <td>healthcare python streaming application demo</td>\n",
       "      <td>2</td>\n",
       "    </tr>\n",
       "    <tr>\n",
       "      <th>2</th>\n",
       "      <td>1429.0</td>\n",
       "      <td>use deep learning for image classification</td>\n",
       "      <td>3</td>\n",
       "    </tr>\n",
       "    <tr>\n",
       "      <th>3</th>\n",
       "      <td>1338.0</td>\n",
       "      <td>ml optimization using cognitive assistant</td>\n",
       "      <td>4</td>\n",
       "    </tr>\n",
       "    <tr>\n",
       "      <th>4</th>\n",
       "      <td>1276.0</td>\n",
       "      <td>deploy your python model as a restful api</td>\n",
       "      <td>5</td>\n",
       "    </tr>\n",
       "  </tbody>\n",
       "</table>\n",
       "</div>"
      ],
      "text/plain": [
       "   article_id                                              title  user_id\n",
       "0      1430.0  using pixiedust for fast, flexible, and easier...        1\n",
       "1      1314.0       healthcare python streaming application demo        2\n",
       "2      1429.0         use deep learning for image classification        3\n",
       "3      1338.0          ml optimization using cognitive assistant        4\n",
       "4      1276.0          deploy your python model as a restful api        5"
      ]
     },
     "execution_count": 60,
     "metadata": {},
     "output_type": "execute_result"
    }
   ],
   "source": [
    "## No need to change the code here - this will be helpful for later parts of the notebook\n",
    "# Run this cell to map the user email to a user_id column and remove the email column\n",
    "\n",
    "def email_mapper():\n",
    "    coded_dict = dict()\n",
    "    cter = 1\n",
    "    email_encoded = []\n",
    "    \n",
    "    for val in df['email']:\n",
    "        if val not in coded_dict:\n",
    "            coded_dict[val] = cter\n",
    "            cter+=1\n",
    "        \n",
    "        email_encoded.append(coded_dict[val])\n",
    "    return email_encoded\n",
    "\n",
    "email_encoded = email_mapper()\n",
    "del df['email']\n",
    "df['user_id'] = email_encoded\n",
    "\n",
    "# show header\n",
    "df.head()"
   ]
  },
  {
   "cell_type": "code",
   "execution_count": 61,
   "metadata": {},
   "outputs": [
    {
     "name": "stdout",
     "output_type": "stream",
     "text": [
      "It looks like you have everything right here! Nice job!\n"
     ]
    }
   ],
   "source": [
    "## If you stored all your results in the variable names above, \n",
    "## you shouldn't need to change anything in this cell\n",
    "\n",
    "sol_1_dict = {\n",
    "    '`50% of individuals have _____ or fewer interactions.`': median_val,\n",
    "    '`The total number of user-article interactions in the dataset is ______.`': user_article_interactions,\n",
    "    '`The maximum number of user-article interactions by any 1 user is ______.`': max_views_by_user,\n",
    "    '`The most viewed article in the dataset was viewed _____ times.`': max_views,\n",
    "    '`The article_id of the most viewed article is ______.`': most_viewed_article_id,\n",
    "    '`The number of unique articles that have at least 1 rating ______.`': unique_articles,\n",
    "    '`The number of unique users in the dataset is ______`': unique_users,\n",
    "    '`The number of unique articles on the IBM platform`': total_articles\n",
    "}\n",
    "\n",
    "# Test your dictionary against the solution\n",
    "t.sol_1_test(sol_1_dict)"
   ]
  },
  {
   "cell_type": "markdown",
   "metadata": {},
   "source": [
    "### <a class=\"anchor\" id=\"Rank\">Part II: Rank-Based Recommendations</a>\n",
    "\n",
    "Unlike in the earlier lessons, we don't actually have ratings for whether a user liked an article or not.  We only know that a user has interacted with an article.  In these cases, the popularity of an article can really only be based on how often an article was interacted with.\n",
    "\n",
    "`1.` Fill in the function below to return the **n** top articles ordered with most interactions as the top. Test your function using the tests below."
   ]
  },
  {
   "cell_type": "code",
   "execution_count": 62,
   "metadata": {},
   "outputs": [],
   "source": [
    "def get_top_articles(n, df=df):\n",
    "    '''\n",
    "    INPUT:\n",
    "    n - (int) the number of top articles to return\n",
    "    df - (pandas dataframe) df as defined at the top of the notebook \n",
    "    \n",
    "    OUTPUT:\n",
    "    top_articles - (list) A list of the top 'n' article titles \n",
    "    \n",
    "    '''\n",
    "    # Your code here\n",
    "    top_article_ids = get_top_article_ids(n, df)\n",
    "    \n",
    "    top_articles = pd.unique(df[df['article_id'].isin(top_article_ids)]['title']).tolist()\n",
    "    \n",
    "    return top_articles # Return the top article titles from df (not df_content)\n",
    "\n",
    "def get_top_article_ids(n, df=df):\n",
    "    '''\n",
    "    INPUT:\n",
    "    n - (int) the number of top articles to return\n",
    "    df - (pandas dataframe) df as defined at the top of the notebook \n",
    "    \n",
    "    OUTPUT:\n",
    "    top_articles - (list) A list of the top 'n' article titles \n",
    "    \n",
    "    '''\n",
    "    # Your code here\n",
    "    top_articles = df.groupby('article_id').size().reset_index(name='views').sort_values(['views'], ascending=False)\n",
    "    top_articles = np.array(top_articles['article_id'].head(n))\n",
    " \n",
    "    return top_articles # Return the top article ids"
   ]
  },
  {
   "cell_type": "code",
   "execution_count": 63,
   "metadata": {},
   "outputs": [
    {
     "name": "stdout",
     "output_type": "stream",
     "text": [
      "[1429. 1330. 1431. 1427. 1364. 1314. 1293. 1170. 1162. 1304.]\n"
     ]
    }
   ],
   "source": [
    "print(get_top_article_ids(10))"
   ]
  },
  {
   "cell_type": "code",
   "execution_count": 64,
   "metadata": {},
   "outputs": [
    {
     "name": "stdout",
     "output_type": "stream",
     "text": [
      "[1429. 1330. 1431. 1427. 1364. 1314. 1293. 1170. 1162. 1304.]\n"
     ]
    }
   ],
   "source": [
    "print(get_top_article_ids(10))"
   ]
  },
  {
   "cell_type": "code",
   "execution_count": 65,
   "metadata": {},
   "outputs": [
    {
     "name": "stdout",
     "output_type": "stream",
     "text": [
      "Your top_5 looks like the solution list! Nice job.\n",
      "Your top_10 looks like the solution list! Nice job.\n",
      "Your top_20 looks like the solution list! Nice job.\n"
     ]
    }
   ],
   "source": [
    "# Test your function by returning the top 5, 10, and 20 articles\n",
    "top_5 = get_top_articles(5)\n",
    "top_10 = get_top_articles(10)\n",
    "top_20 = get_top_articles(20)\n",
    "\n",
    "# Test each of your three lists from above\n",
    "t.sol_2_test(get_top_articles)"
   ]
  },
  {
   "cell_type": "markdown",
   "metadata": {},
   "source": [
    "### <a class=\"anchor\" id=\"User-User\">Part III: User-User Based Collaborative Filtering</a>\n",
    "\n",
    "\n",
    "`1.` Use the function below to reformat the **df** dataframe to be shaped with users as the rows and articles as the columns.  \n",
    "\n",
    "* Each **user** should only appear in each **row** once.\n",
    "\n",
    "\n",
    "* Each **article** should only show up in one **column**.  \n",
    "\n",
    "\n",
    "* **If a user has interacted with an article, then place a 1 where the user-row meets for that article-column**.  It does not matter how many times a user has interacted with the article, all entries where a user has interacted with an article should be a 1.  \n",
    "\n",
    "\n",
    "* **If a user has not interacted with an item, then place a zero where the user-row meets for that article-column**. \n",
    "\n",
    "Use the tests to make sure the basic structure of your matrix matches what is expected by the solution."
   ]
  },
  {
   "cell_type": "code",
   "execution_count": 66,
   "metadata": {},
   "outputs": [],
   "source": [
    "# create the user-article matrix with 1's and 0's\n",
    "\n",
    "def create_user_item_matrix(df):\n",
    "    '''\n",
    "    INPUT:\n",
    "    df - pandas dataframe with article_id, title, user_id columns\n",
    "    \n",
    "    OUTPUT:\n",
    "    user_item - user item matrix \n",
    "    \n",
    "    Description:\n",
    "    Return a matrix with user ids as rows and article ids on the columns with 1 values where a user interacted with \n",
    "    an article and a 0 otherwise\n",
    "    '''\n",
    "    # Fill in the function here\n",
    "    user_article = df.groupby(['user_id', 'article_id']).max().unstack().applymap(lambda x: 0 if pd.isnull(x) else 1)\n",
    "        \n",
    "    #user_item = np.matrix(user_article)\n",
    "    user_item = user_article\n",
    "    \n",
    "    return user_item # return the user_item matrix \n",
    "\n",
    "user_item = create_user_item_matrix(df)"
   ]
  },
  {
   "cell_type": "code",
   "execution_count": 67,
   "metadata": {},
   "outputs": [
    {
     "name": "stdout",
     "output_type": "stream",
     "text": [
      "You have passed our quick tests!  Please proceed!\n"
     ]
    }
   ],
   "source": [
    "## Tests: You should just need to run this cell.  Don't change the code.\n",
    "assert user_item.shape[0] == 5149, \"Oops!  The number of users in the user-article matrix doesn't look right.\"\n",
    "assert user_item.shape[1] == 714, \"Oops!  The number of articles in the user-article matrix doesn't look right.\"\n",
    "#assert user_item.sum(axis=1)['1'] == 36, \"Oops!  The number of articles seen by user 1 doesn't look right.\"\n",
    "# As per my comments in https://knowledge.udacity.com/questions/532637 I thihk this assert should be this and not above\n",
    "assert user_item.loc[[1]].sum(axis=1).item() == 36, \"Oops!  The number of articles seen by user 1 doesn't look right.\"\n",
    "print(\"You have passed our quick tests!  Please proceed!\")"
   ]
  },
  {
   "cell_type": "markdown",
   "metadata": {},
   "source": [
    "`2.` Complete the function below which should take a user_id and provide an ordered list of the most similar users to that user (from most similar to least similar).  The returned result should not contain the provided user_id, as we know that each user is similar to him/herself. Because the results for each user here are binary, it (perhaps) makes sense to compute similarity as the dot product of two users. \n",
    "\n",
    "Use the tests to test your function."
   ]
  },
  {
   "cell_type": "code",
   "execution_count": 68,
   "metadata": {},
   "outputs": [],
   "source": [
    "def find_similar_users(user_id, user_item=user_item):\n",
    "    '''\n",
    "    INPUT:\n",
    "    user_id - (int) a user_id\n",
    "    user_item - (pandas dataframe) matrix of users by articles: \n",
    "                1's when a user has interacted with an article, 0 otherwise\n",
    "    \n",
    "    OUTPUT:\n",
    "    similar_users - (list) an ordered list where the closest users (largest dot product users)\n",
    "                    are listed first\n",
    "    \n",
    "    Description:\n",
    "    Computes the similarity of every pair of users based on the dot product\n",
    "    Returns an ordered list of the users in order from most to least similar\n",
    "    \n",
    "    '''\n",
    "    # compute similarity of each user to the provided user\n",
    "    user_row = user_item.loc[[user_id]]\n",
    "    predictions = user_row.dot(user_item.transpose())\n",
    "\n",
    "    # sort by similarity\n",
    "    most_similar_users = predictions.transpose().sort_values(axis = 0, by = user_id, ascending=False)\n",
    "\n",
    "    # create list of just the ids\n",
    "    most_similar_users = most_similar_users.drop(user_id, axis = 1)\n",
    "   \n",
    "    # remove the own user's id (which is the first one since that is going to be the best match)\n",
    "    most_similar_users = most_similar_users.iloc[1: , :]\n",
    "    most_similar_users = most_similar_users.index.tolist()\n",
    "       \n",
    "    return most_similar_users # return a list of the users in order from most to least similar"
   ]
  },
  {
   "cell_type": "code",
   "execution_count": 69,
   "metadata": {},
   "outputs": [
    {
     "name": "stdout",
     "output_type": "stream",
     "text": [
      "The 10 most similar users to user 1 are: [3933, 23, 3782, 203, 4459, 3870, 131, 4201, 46, 5041]\n",
      "The 5 most similar users to user 3933 are: [3933, 23, 3782, 203, 4459]\n",
      "The 3 most similar users to user 46 are: [4201, 3782, 23]\n"
     ]
    }
   ],
   "source": [
    "# Do a spot check of your function\n",
    "print(\"The 10 most similar users to user 1 are: {}\".format(find_similar_users(1)[:10]))\n",
    "print(\"The 5 most similar users to user 3933 are: {}\".format(find_similar_users(3933)[:5]))\n",
    "print(\"The 3 most similar users to user 46 are: {}\".format(find_similar_users(46)[:3]))"
   ]
  },
  {
   "cell_type": "markdown",
   "metadata": {},
   "source": [
    "`3.` Now that you have a function that provides the most similar users to each user, you will want to use these users to find articles you can recommend.  Complete the functions below to return the articles you would recommend to each user. "
   ]
  },
  {
   "cell_type": "code",
   "execution_count": 70,
   "metadata": {},
   "outputs": [],
   "source": [
    "def get_article_names(article_ids, df=df):\n",
    "    '''\n",
    "    INPUT:\n",
    "    article_ids - (list) a list of article ids\n",
    "    df - (pandas dataframe) df as defined at the top of the notebook\n",
    "    \n",
    "    OUTPUT:\n",
    "    article_names - (list) a list of article names associated with the list of article ids \n",
    "                    (this is identified by the title column)\n",
    "    '''\n",
    "    # Your code here\n",
    "    article_names = df.loc[df['article_id'].astype(str).isin(article_ids)]['title']\n",
    "    article_names = np.array(article_names.drop_duplicates(keep='first'))\n",
    "    \n",
    "    return article_names # Return the article names associated with list of article ids\n",
    "\n",
    "\n",
    "def get_user_articles(user_id, user_item=user_item):\n",
    "    '''\n",
    "    INPUT:\n",
    "    user_id - (int) a user id\n",
    "    user_item - (pandas dataframe) matrix of users by articles: \n",
    "                1's when a user has interacted with an article, 0 otherwise\n",
    "    \n",
    "    OUTPUT:\n",
    "    article_ids - (list) a list of the article ids seen by the user\n",
    "    article_names - (list) a list of article names associated with the list of article ids \n",
    "                    (this is identified by the doc_full_name column in df_content)\n",
    "    \n",
    "    Description:\n",
    "    Provides a list of the article_ids and article titles that have been seen by a user\n",
    "    '''\n",
    "    # Your code here\n",
    "    article_ids = user_item.loc[[user_id]].transpose()\n",
    "    article_ids = article_ids.loc[article_ids[user_id] == 1]\n",
    "    article_ids = article_ids.index.tolist()\n",
    "    article_ids = np.array(article_ids)[:,1]\n",
    "\n",
    "    article_names = get_article_names(article_ids)\n",
    "    \n",
    "    return article_ids, article_names # return the ids and names\n",
    "\n",
    "\n",
    "def user_user_recs(user_id, m=10):\n",
    "    '''\n",
    "    INPUT:\n",
    "    user_id - (int) a user id\n",
    "    m - (int) the number of recommendations you want for the user\n",
    "    \n",
    "    OUTPUT:\n",
    "    recs - (list) a list of recommendations for the user\n",
    "    \n",
    "    Description:\n",
    "    Loops through the users based on closeness to the input user_id\n",
    "    For each user - finds articles the user hasn't seen before and provides them as recs\n",
    "    Does this until m recommendations are found\n",
    "    \n",
    "    Notes:\n",
    "    Users who are the same closeness are chosen arbitrarily as the 'next' user\n",
    "    \n",
    "    For the user where the number of recommended articles starts below m \n",
    "    and ends exceeding m, the last items are chosen arbitrarily\n",
    "    \n",
    "    '''\n",
    "    # Your code here\n",
    "    recs = find_similar_users(user_id)[:m]\n",
    "    \n",
    "    return recs # return your recommendations for this user_id    "
   ]
  },
  {
   "cell_type": "code",
   "execution_count": 71,
   "metadata": {},
   "outputs": [
    {
     "name": "stdout",
     "output_type": "stream",
     "text": [
      "If this is all you see, you passed all of our tests!  Nice job!\n"
     ]
    }
   ],
   "source": [
    "# Test your functions here - No need to change this code - just run this cell\n",
    "assert set(get_article_names(['1024.0', '1176.0', '1305.0', '1314.0', '1422.0', '1427.0'])) == set(['using deep learning to reconstruct high-resolution audio', 'build a python app on the streaming analytics service', 'gosales transactions for naive bayes model', 'healthcare python streaming application demo', 'use r dataframes & ibm watson natural language understanding', 'use xgboost, scikit-learn & ibm watson machine learning apis']), \"Oops! Your the get_article_names function doesn't work quite how we expect.\"\n",
    "assert set(get_article_names(['1320.0', '232.0', '844.0'])) == set(['housing (2015): united states demographic measures','self-service data preparation with ibm data refinery','use the cloudant-spark connector in python notebook']), \"Oops! Your the get_article_names function doesn't work quite how we expect.\"\n",
    "assert set(get_user_articles(20)[0]) == set(['1320.0', '232.0', '844.0'])\n",
    "assert set(get_user_articles(20)[1]) == set(['housing (2015): united states demographic measures', 'self-service data preparation with ibm data refinery','use the cloudant-spark connector in python notebook'])\n",
    "assert set(get_user_articles(2)[0]) == set(['1024.0', '1176.0', '1305.0', '1314.0', '1422.0', '1427.0'])\n",
    "assert set(get_user_articles(2)[1]) == set(['using deep learning to reconstruct high-resolution audio', 'build a python app on the streaming analytics service', 'gosales transactions for naive bayes model', 'healthcare python streaming application demo', 'use r dataframes & ibm watson natural language understanding', 'use xgboost, scikit-learn & ibm watson machine learning apis'])\n",
    "print(\"If this is all you see, you passed all of our tests!  Nice job!\")"
   ]
  },
  {
   "cell_type": "markdown",
   "metadata": {},
   "source": [
    "`4.` Now we are going to improve the consistency of the **user_user_recs** function from above.  \n",
    "\n",
    "* Instead of arbitrarily choosing when we obtain users who are all the same closeness to a given user - choose the users that have the most total article interactions before choosing those with fewer article interactions.\n",
    "\n",
    "\n",
    "* Instead of arbitrarily choosing articles from the user where the number of recommended articles starts below m and ends exceeding m, choose articles with the articles with the most total interactions before choosing those with fewer total interactions. This ranking should be  what would be obtained from the **top_articles** function you wrote earlier."
   ]
  },
  {
   "cell_type": "code",
   "execution_count": 72,
   "metadata": {},
   "outputs": [
    {
     "data": {
      "text/html": [
       "<div>\n",
       "<style scoped>\n",
       "    .dataframe tbody tr th:only-of-type {\n",
       "        vertical-align: middle;\n",
       "    }\n",
       "\n",
       "    .dataframe tbody tr th {\n",
       "        vertical-align: top;\n",
       "    }\n",
       "\n",
       "    .dataframe thead th {\n",
       "        text-align: right;\n",
       "    }\n",
       "</style>\n",
       "<table border=\"1\" class=\"dataframe\">\n",
       "  <thead>\n",
       "    <tr style=\"text-align: right;\">\n",
       "      <th>user_id</th>\n",
       "      <th>neighbor_id</th>\n",
       "      <th>similarity</th>\n",
       "    </tr>\n",
       "    <tr>\n",
       "      <th>user_id</th>\n",
       "      <th></th>\n",
       "      <th></th>\n",
       "    </tr>\n",
       "  </thead>\n",
       "  <tbody>\n",
       "    <tr>\n",
       "      <th>3933</th>\n",
       "      <td>3933</td>\n",
       "      <td>35</td>\n",
       "    </tr>\n",
       "    <tr>\n",
       "      <th>23</th>\n",
       "      <td>23</td>\n",
       "      <td>17</td>\n",
       "    </tr>\n",
       "    <tr>\n",
       "      <th>3782</th>\n",
       "      <td>3782</td>\n",
       "      <td>17</td>\n",
       "    </tr>\n",
       "    <tr>\n",
       "      <th>203</th>\n",
       "      <td>203</td>\n",
       "      <td>15</td>\n",
       "    </tr>\n",
       "    <tr>\n",
       "      <th>4459</th>\n",
       "      <td>4459</td>\n",
       "      <td>15</td>\n",
       "    </tr>\n",
       "  </tbody>\n",
       "</table>\n",
       "</div>"
      ],
      "text/plain": [
       "user_id  neighbor_id  similarity\n",
       "user_id                         \n",
       "3933            3933          35\n",
       "23                23          17\n",
       "3782            3782          17\n",
       "203              203          15\n",
       "4459            4459          15"
      ]
     },
     "execution_count": 72,
     "metadata": {},
     "output_type": "execute_result"
    }
   ],
   "source": [
    "user_id = 1\n",
    "user_row = user_item.loc[[user_id]]\n",
    "predictions = user_row.dot(user_item.transpose())\n",
    "\n",
    "# sort by similarity\n",
    "most_similar_users = predictions.transpose().sort_values(axis = 0, by = user_id, ascending=False)\n",
    "   \n",
    "# remove the own user's id (which is the first one since that is going to be the best match)\n",
    "most_similar_users = most_similar_users.iloc[1: , :]\n",
    "\n",
    "most_similar_users.reset_index(inplace=True)\n",
    "most_similar_users.rename(columns={'user_id': 'neighbor_id', user_id: 'similarity'}, inplace=True)\n",
    "most_similar_users['user_id'] = most_similar_users['neighbor_id']\n",
    "most_similar_users.set_index('user_id', inplace=True)\n",
    "most_similar_users.head()"
   ]
  },
  {
   "cell_type": "code",
   "execution_count": 73,
   "metadata": {},
   "outputs": [
    {
     "data": {
      "text/html": [
       "<div>\n",
       "<style scoped>\n",
       "    .dataframe tbody tr th:only-of-type {\n",
       "        vertical-align: middle;\n",
       "    }\n",
       "\n",
       "    .dataframe tbody tr th {\n",
       "        vertical-align: top;\n",
       "    }\n",
       "\n",
       "    .dataframe thead th {\n",
       "        text-align: right;\n",
       "    }\n",
       "</style>\n",
       "<table border=\"1\" class=\"dataframe\">\n",
       "  <thead>\n",
       "    <tr style=\"text-align: right;\">\n",
       "      <th></th>\n",
       "      <th>views</th>\n",
       "    </tr>\n",
       "    <tr>\n",
       "      <th>user_id</th>\n",
       "      <th></th>\n",
       "    </tr>\n",
       "  </thead>\n",
       "  <tbody>\n",
       "    <tr>\n",
       "      <th>23</th>\n",
       "      <td>364</td>\n",
       "    </tr>\n",
       "    <tr>\n",
       "      <th>3782</th>\n",
       "      <td>363</td>\n",
       "    </tr>\n",
       "    <tr>\n",
       "      <th>98</th>\n",
       "      <td>170</td>\n",
       "    </tr>\n",
       "    <tr>\n",
       "      <th>3764</th>\n",
       "      <td>169</td>\n",
       "    </tr>\n",
       "    <tr>\n",
       "      <th>203</th>\n",
       "      <td>160</td>\n",
       "    </tr>\n",
       "  </tbody>\n",
       "</table>\n",
       "</div>"
      ],
      "text/plain": [
       "         views\n",
       "user_id       \n",
       "23         364\n",
       "3782       363\n",
       "98         170\n",
       "3764       169\n",
       "203        160"
      ]
     },
     "execution_count": 73,
     "metadata": {},
     "output_type": "execute_result"
    }
   ],
   "source": [
    "interactions = df.groupby('user_id').size().reset_index(name='views').sort_values(['views'], ascending=False).head(10)\n",
    "user_id = 23 # should be 364 views\n",
    "#interactions[interactions['user_id'] == user_id]\n",
    "interactions.set_index('user_id', inplace=True)\n",
    "interactions.head()"
   ]
  },
  {
   "cell_type": "code",
   "execution_count": 74,
   "metadata": {},
   "outputs": [],
   "source": [
    "def get_top_sorted_users(user_id, df=df, user_item=user_item):\n",
    "    '''\n",
    "    INPUT:\n",
    "    user_id - (int)\n",
    "    df - (pandas dataframe) df as defined at the top of the notebook \n",
    "    user_item - (pandas dataframe) matrix of users by articles: \n",
    "            1's when a user has interacted with an article, 0 otherwise\n",
    "    \n",
    "            \n",
    "    OUTPUT:\n",
    "    neighbors_df - (pandas dataframe) a dataframe with:\n",
    "                    neighbor_id - is a neighbor user_id\n",
    "                    similarity - measure of the similarity of each user to the provided user_id\n",
    "                    num_interactions - the number of articles viewed by the user - if a u\n",
    "                    \n",
    "    Other Details - sort the neighbors_df by the similarity and then by number of interactions where \n",
    "                    highest of each is higher in the dataframe\n",
    "     \n",
    "    '''\n",
    "    # Cannot reuse our function from above to get all neighbors since it drops the similirary and \n",
    "    # only returns sorterd neighbors, bummer, but we'll just recreate the bits we need here\n",
    "    user_row = user_item.loc[[user_id]]\n",
    "    predictions = user_row.dot(user_item.transpose())\n",
    "\n",
    "    # sort by similarity\n",
    "    most_similar_users = predictions.transpose().sort_values(axis = 0, by = user_id, ascending=False)\n",
    "   \n",
    "    # remove the own user's id (which is the first one since that is going to be the best match)\n",
    "    most_similar_users = most_similar_users.iloc[1: , :]\n",
    "\n",
    "    # make the user_id a column as 'neighbor_id' but also make the 'user_id' value as an index to merge (SQL JOIN) with later\n",
    "    most_similar_users.reset_index(inplace=True)\n",
    "    most_similar_users.rename(columns={'user_id': 'neighbor_id', user_id: 'similarity'}, inplace=True)\n",
    "    most_similar_users['user_id'] = most_similar_users['neighbor_id']\n",
    "    most_similar_users.set_index('user_id', inplace=True)\n",
    "    \n",
    "    # user interactions and make the 'user_id' value as an index to use in merge (SQL JOIN)\n",
    "    interactions = df.groupby('user_id').size().reset_index(name='num_interactions').sort_values(['num_interactions'], ascending=False).head(10)\n",
    "    interactions.set_index('user_id', inplace=True)\n",
    "    \n",
    "    # Now put it all together: 'neighbor_id', 'similarity' with 'num_interactions'\n",
    "    #concat didn't give us what we needed, need more of a \"join\" or \"vlookup\"...neighbors_df = pd.concat([most_similar_users, interactions], axis=1)\n",
    "    neighbors_df = pd.merge(most_similar_users, interactions, how='left', left_on = 'user_id', right_on = 'user_id')\n",
    "    \n",
    "    # Before we sort, let's zero out the NaN values otherwise those bubble to the top, rather see 0 than NaN\n",
    "    neighbors_df['num_interactions'] = neighbors_df['num_interactions'].replace(np.nan, 0)\n",
    "    \n",
    "    # sort the neighbors_df by the similarity and then by number of interactions\n",
    "    neighbors_df.sort_values(by=['similarity', 'num_interactions'], inplace=True, ascending=False)\n",
    "    \n",
    "    return neighbors_df # Return the dataframe specified in the doc_string\n",
    "\n",
    "def get_user_articles_part2(user_id, user_item=user_item):\n",
    "    '''\n",
    "    INPUT:\n",
    "    user_id - (int) a user id\n",
    "    user_item - (pandas dataframe) matrix of users by articles: \n",
    "                1's when a user has interacted with an article, 0 otherwise\n",
    "    \n",
    "    OUTPUT:\n",
    "    article_ids - (list) a list of the article ids seen by the user\n",
    "    article_names - (list) a list of article names associated with the list of article ids \n",
    "                    (this is identified by the doc_full_name column in df_content)\n",
    "    \n",
    "    Description:\n",
    "    Variation of the original get_user_articles but we want a list of the article_ids and article titles \n",
    "    that are sorted by article views by user\n",
    "    '''\n",
    "    # Your code here\n",
    "    article_ids = user_item.loc[[user_id]].transpose()\n",
    "    article_ids = article_ids.loc[article_ids[user_id] == 1]\n",
    "    \n",
    "    # HERE is where we differ from the original get_user_articles, we need the number of article views\n",
    "    # merged here so that we can also sort by views or interactions, after this it's the same as \n",
    "    # the original get_user_articles function\n",
    "    \n",
    "    # Get article views since we want to choose articles with the most total interactions \n",
    "    # before choosing those with fewer total interactions\n",
    "    views_df = df.groupby('article_id').size().reset_index(name='views').sort_values(['views'], ascending=False)\n",
    "    article_views_df = pd.merge(article_ids, views_df, how='left', left_on = 'article_id', right_on = 'article_id')\n",
    "    # sort the article_views_df by the views or interactions\n",
    "    article_views_df.sort_values(by=['views'], inplace=True, ascending=False)\n",
    "    article_ids = np.array(article_views_df['article_id'])\n",
    "\n",
    "    article_names = get_article_names(article_ids)\n",
    "    \n",
    "    return article_ids, article_names # return the ids and names\n",
    "\n",
    "def user_user_recs_part2(user_id, m=10):\n",
    "    '''\n",
    "    INPUT:\n",
    "    user_id - (int) a user id\n",
    "    m - (int) the number of recommendations you want for the user\n",
    "    \n",
    "    OUTPUT:\n",
    "    recs - (list) a list of recommendations for the user by article id\n",
    "    rec_names - (list) a list of recommendations for the user by article title\n",
    "    \n",
    "    Description:\n",
    "    Loops through the users based on closeness to the input user_id\n",
    "    For each user - finds articles the user hasn't seen before and provides them as recs\n",
    "    Does this until m recommendations are found\n",
    "    \n",
    "    Notes:\n",
    "    * Choose the users that have the most total article interactions \n",
    "    before choosing those with fewer article interactions.\n",
    "\n",
    "    * Choose articles with the most total interactions \n",
    "    before choosing those with fewer total interactions. \n",
    "   \n",
    "    '''\n",
    "    # Your code here\n",
    "    # get_top_sorted_users should already return sorting by similarity and then by number of interactions\n",
    "    # so the order is already such that we choose the users that have the most total article interactions \n",
    "    # before choosing those with fewer article interactions\n",
    "    neighbors_df = get_top_sorted_users(user_id)\n",
    "    \n",
    "    # Track how many articles we have gathered since we want to stop at \"m\"\n",
    "    counter = 0\n",
    "    recs = [] * m\n",
    "    rec_names = [] * m\n",
    "    # Loops through the users based on closeness to the input user_id\n",
    "    for user_id in neighbors_df['neighbor_id']:\n",
    "        if (counter >= m):\n",
    "            break;\n",
    "        # get_user_articles_part2 already gives us ordered articles with the most total interactions\n",
    "        # before choosing those with fewer total interactions\n",
    "        article_ids, article_names = get_user_articles_part2(user_id)\n",
    "        # append only up to stop items as we do not want to exceed m total items\n",
    "        stop = m - counter\n",
    "        recs.append(article_ids[:stop])\n",
    "        rec_names.append(article_names[:stop])\n",
    "        # Up the counter by the number of records we just appended\n",
    "        counter += len(recs)\n",
    "    \n",
    "    return recs, rec_names"
   ]
  },
  {
   "cell_type": "code",
   "execution_count": 75,
   "metadata": {},
   "outputs": [
    {
     "name": "stdout",
     "output_type": "stream",
     "text": [
      "The top 10 recommendations for user 20 are the following article ids:\n",
      "[array([1429., 1330., 1431., 1364., 1314., 1162., 1436., 1271., 1393.,\n",
      "       1354.]), array([1429., 1330., 1314., 1293., 1162., 1271.,   43., 1351., 1368.]), array([1271., 1320., 1328., 1410., 1403.,  232., 1402.]), array([1314., 1436., 1351., 1163.])]\n",
      "\n",
      "The top 10 recommendations for user 20 are the following article names:\n",
      "[array([], dtype=object), array([], dtype=object), array([], dtype=object), array([], dtype=object)]\n"
     ]
    }
   ],
   "source": [
    "# Quick spot check - don't change this code - just use it to test your functions\n",
    "rec_ids, rec_names = user_user_recs_part2(20, 10)\n",
    "print(\"The top 10 recommendations for user 20 are the following article ids:\")\n",
    "print(rec_ids)\n",
    "print()\n",
    "print(\"The top 10 recommendations for user 20 are the following article names:\")\n",
    "print(rec_names)"
   ]
  },
  {
   "cell_type": "markdown",
   "metadata": {},
   "source": [
    "`5.` Use your functions from above to correctly fill in the solutions to the dictionary below.  Then test your dictionary against the solution.  Provide the code you need to answer each following the comments below."
   ]
  },
  {
   "cell_type": "code",
   "execution_count": 76,
   "metadata": {},
   "outputs": [
    {
     "data": {
      "text/html": [
       "<div>\n",
       "<style scoped>\n",
       "    .dataframe tbody tr th:only-of-type {\n",
       "        vertical-align: middle;\n",
       "    }\n",
       "\n",
       "    .dataframe tbody tr th {\n",
       "        vertical-align: top;\n",
       "    }\n",
       "\n",
       "    .dataframe thead th {\n",
       "        text-align: right;\n",
       "    }\n",
       "</style>\n",
       "<table border=\"1\" class=\"dataframe\">\n",
       "  <thead>\n",
       "    <tr style=\"text-align: right;\">\n",
       "      <th></th>\n",
       "      <th>neighbor_id</th>\n",
       "      <th>similarity</th>\n",
       "      <th>num_interactions</th>\n",
       "    </tr>\n",
       "    <tr>\n",
       "      <th>user_id</th>\n",
       "      <th></th>\n",
       "      <th></th>\n",
       "      <th></th>\n",
       "    </tr>\n",
       "  </thead>\n",
       "  <tbody>\n",
       "    <tr>\n",
       "      <th>3870</th>\n",
       "      <td>3870</td>\n",
       "      <td>74</td>\n",
       "      <td>0.0</td>\n",
       "    </tr>\n",
       "  </tbody>\n",
       "</table>\n",
       "</div>"
      ],
      "text/plain": [
       "         neighbor_id  similarity  num_interactions\n",
       "user_id                                           \n",
       "3870            3870          74               0.0"
      ]
     },
     "execution_count": 76,
     "metadata": {},
     "output_type": "execute_result"
    }
   ],
   "source": [
    "#Running some quick tests to double check our work before we do our dictionary check below\n",
    "assert 3933 == get_top_sorted_users(1).head(1).iloc[0]['neighbor_id'], \"Was expecting 3933 as top neighbor id id for user id 1\"\n",
    "assert 242 == get_top_sorted_users(131).head(10).iloc[9]['neighbor_id'], \"Was expecting 242 as top 10th neighbor id for user id 131\"\n",
    "get_top_sorted_users(131).head(1)"
   ]
  },
  {
   "cell_type": "code",
   "execution_count": 77,
   "metadata": {},
   "outputs": [],
   "source": [
    "### Tests with a dictionary of results\n",
    "\n",
    "# NOTE: get_top_sorted_users(1).head(2), returns 3933 as the top match, however, we noticed this user had 0 num_interactions\n",
    "# this really bothers me as this might be misleading. Maybe we'll sort out later in the exercise.\n",
    "\n",
    "user1_most_sim = get_top_sorted_users(1).head(1).iloc[0]['neighbor_id']# Find the user that is most similar to user 1 \n",
    "user131_10th_sim = get_top_sorted_users(131).head(10).iloc[9]['neighbor_id']# Find the 10th most similar user to user 131"
   ]
  },
  {
   "cell_type": "code",
   "execution_count": 78,
   "metadata": {},
   "outputs": [
    {
     "name": "stdout",
     "output_type": "stream",
     "text": [
      "This all looks good!  Nice job!\n"
     ]
    }
   ],
   "source": [
    "## Dictionary Test Here\n",
    "sol_5_dict = {\n",
    "    'The user that is most similar to user 1.': user1_most_sim, \n",
    "    'The user that is the 10th most similar to user 131': user131_10th_sim,\n",
    "}\n",
    "\n",
    "t.sol_5_test(sol_5_dict)"
   ]
  },
  {
   "cell_type": "markdown",
   "metadata": {},
   "source": [
    "`6.` If we were given a new user, which of the above functions would you be able to use to make recommendations?  Explain.  Can you think of a better way we might make recommendations?  Use the cell below to explain a better method for new users."
   ]
  },
  {
   "cell_type": "markdown",
   "metadata": {},
   "source": [
    "**I would use get_top_article_ids.** Without knowing a user's preferences we default to the most popular articles."
   ]
  },
  {
   "cell_type": "markdown",
   "metadata": {},
   "source": [
    "`7.` Using your existing functions, provide the top 10 recommended articles you would provide for the a new user below.  You can test your function against our thoughts to make sure we are all on the same page with how we might make a recommendation."
   ]
  },
  {
   "cell_type": "code",
   "execution_count": 79,
   "metadata": {},
   "outputs": [
    {
     "data": {
      "text/plain": [
       "['1429.0',\n",
       " '1330.0',\n",
       " '1431.0',\n",
       " '1427.0',\n",
       " '1364.0',\n",
       " '1314.0',\n",
       " '1293.0',\n",
       " '1170.0',\n",
       " '1162.0',\n",
       " '1304.0']"
      ]
     },
     "execution_count": 79,
     "metadata": {},
     "output_type": "execute_result"
    }
   ],
   "source": [
    "a = get_top_article_ids(10)\n",
    "b = list(map(str, a))\n",
    "b[:]"
   ]
  },
  {
   "cell_type": "code",
   "execution_count": 80,
   "metadata": {},
   "outputs": [],
   "source": [
    "new_user = '0.0'\n",
    "\n",
    "# What would your recommendations be for this new user '0.0'?  As a new user, they have no observed articles.\n",
    "# Provide a list of the top 10 article ids you would give to \n",
    "# *** NOTE: I commented on this in https://knowledge.udacity.com/questions/742232\n",
    "# the expected assert answer initially failed because it expected a set of string ids not numeric ids which is \n",
    "# what get_top_article_ids(10) returns, however, once you cast to a set of string ids it changes the order of \n",
    "# the ids. This is confusing. Not sure why the assert was written this way.\n",
    "new_user_recs = set(map(str, get_top_article_ids(10)))# Your recommendations here"
   ]
  },
  {
   "cell_type": "code",
   "execution_count": 81,
   "metadata": {},
   "outputs": [
    {
     "name": "stdout",
     "output_type": "stream",
     "text": [
      "That's right!  Nice job!\n"
     ]
    }
   ],
   "source": [
    "assert set(new_user_recs) == set(['1314.0','1429.0','1293.0','1427.0','1162.0','1364.0','1304.0','1170.0','1431.0','1330.0']), \"Oops!  It makes sense that in this case we would want to recommend the most popular articles, because we don't know anything about these users.\"\n",
    "\n",
    "print(\"That's right!  Nice job!\")"
   ]
  },
  {
   "cell_type": "markdown",
   "metadata": {},
   "source": [
    "### <a class=\"anchor\" id=\"Content-Recs\">Part IV: Content Based Recommendations (EXTRA - NOT REQUIRED)</a>\n",
    "\n",
    "Another method we might use to make recommendations is to perform a ranking of the highest ranked articles associated with some term.  You might consider content to be the **doc_body**, **doc_description**, or **doc_full_name**.  There isn't one way to create a content based recommendation, especially considering that each of these columns hold content related information.  \n",
    "\n",
    "`1.` Use the function body below to create a content based recommender.  Since there isn't one right answer for this recommendation tactic, no test functions are provided.  Feel free to change the function inputs if you decide you want to try a method that requires more input values.  The input values are currently set with one idea in mind that you may use to make content based recommendations.  One additional idea is that you might want to choose the most popular recommendations that meet your 'content criteria', but again, there is a lot of flexibility in how you might make these recommendations."
   ]
  },
  {
   "cell_type": "markdown",
   "metadata": {},
   "source": [
    "#### How about a Word Cloud?\n",
    "How about a word cloud of terms used in doc_description or doc_full_name and let's visually pick off the most popular terms we see repeating? I leveraged this code as explained in \"Generating WordClouds in Python\" by Duong Vu from https://www.datacamp.com/community/tutorials/wordcloud-python, however, this was giving us a runtime error because it uses a non-compiled version of a dependent module called wheel (building 'wordcloud.query_integral_image' extension\n",
    "    error: Microsoft Visual C++ 14.0 or greater is required. Get it with \"Microsoft C++ Build Tools\": https://visualstudio.microsoft.com/visual-cpp-build-tools/). To avoid this error we ran \"py -3.9 -m pip install wordcloud-1.8.1-cp39-cp39-win_amd64.wh\" which installed the wheel version or binary only pre-compiled version.\n",
    "\n",
    "Then we can use these terms as columns in a matrix, where 1 = term appears in description or full name and 0 where it does not. Then we can do a similar dot product matrix to identify articles that have similar content: 'content_similarity' in much the same way we matched neighbors based on articles viewed similarity."
   ]
  },
  {
   "cell_type": "code",
   "execution_count": 82,
   "metadata": {},
   "outputs": [
    {
     "data": {
      "text/html": [
       "<div>\n",
       "<style scoped>\n",
       "    .dataframe tbody tr th:only-of-type {\n",
       "        vertical-align: middle;\n",
       "    }\n",
       "\n",
       "    .dataframe tbody tr th {\n",
       "        vertical-align: top;\n",
       "    }\n",
       "\n",
       "    .dataframe thead th {\n",
       "        text-align: right;\n",
       "    }\n",
       "</style>\n",
       "<table border=\"1\" class=\"dataframe\">\n",
       "  <thead>\n",
       "    <tr style=\"text-align: right;\">\n",
       "      <th></th>\n",
       "      <th>doc_body</th>\n",
       "      <th>doc_description</th>\n",
       "      <th>doc_full_name</th>\n",
       "      <th>doc_status</th>\n",
       "      <th>article_id</th>\n",
       "    </tr>\n",
       "  </thead>\n",
       "  <tbody>\n",
       "    <tr>\n",
       "      <th>0</th>\n",
       "      <td>Skip navigation Sign in SearchLoading...\\r\\n\\r...</td>\n",
       "      <td>Detect bad readings in real time using Python ...</td>\n",
       "      <td>Detect Malfunctioning IoT Sensors with Streami...</td>\n",
       "      <td>Live</td>\n",
       "      <td>0</td>\n",
       "    </tr>\n",
       "    <tr>\n",
       "      <th>1</th>\n",
       "      <td>No Free Hunch Navigation * kaggle.com\\r\\n\\r\\n ...</td>\n",
       "      <td>See the forest, see the trees. Here lies the c...</td>\n",
       "      <td>Communicating data science: A guide to present...</td>\n",
       "      <td>Live</td>\n",
       "      <td>1</td>\n",
       "    </tr>\n",
       "    <tr>\n",
       "      <th>2</th>\n",
       "      <td>☰ * Login\\r\\n * Sign Up\\r\\n\\r\\n * Learning Pat...</td>\n",
       "      <td>Here’s this week’s news in Data Science and Bi...</td>\n",
       "      <td>This Week in Data Science (April 18, 2017)</td>\n",
       "      <td>Live</td>\n",
       "      <td>2</td>\n",
       "    </tr>\n",
       "    <tr>\n",
       "      <th>3</th>\n",
       "      <td>DATALAYER: HIGH THROUGHPUT, LOW LATENCY AT SCA...</td>\n",
       "      <td>Learn how distributed DBs solve the problem of...</td>\n",
       "      <td>DataLayer Conference: Boost the performance of...</td>\n",
       "      <td>Live</td>\n",
       "      <td>3</td>\n",
       "    </tr>\n",
       "    <tr>\n",
       "      <th>4</th>\n",
       "      <td>Skip navigation Sign in SearchLoading...\\r\\n\\r...</td>\n",
       "      <td>This video demonstrates the power of IBM DataS...</td>\n",
       "      <td>Analyze NY Restaurant data using Spark in DSX</td>\n",
       "      <td>Live</td>\n",
       "      <td>4</td>\n",
       "    </tr>\n",
       "  </tbody>\n",
       "</table>\n",
       "</div>"
      ],
      "text/plain": [
       "                                            doc_body  \\\n",
       "0  Skip navigation Sign in SearchLoading...\\r\\n\\r...   \n",
       "1  No Free Hunch Navigation * kaggle.com\\r\\n\\r\\n ...   \n",
       "2  ☰ * Login\\r\\n * Sign Up\\r\\n\\r\\n * Learning Pat...   \n",
       "3  DATALAYER: HIGH THROUGHPUT, LOW LATENCY AT SCA...   \n",
       "4  Skip navigation Sign in SearchLoading...\\r\\n\\r...   \n",
       "\n",
       "                                     doc_description  \\\n",
       "0  Detect bad readings in real time using Python ...   \n",
       "1  See the forest, see the trees. Here lies the c...   \n",
       "2  Here’s this week’s news in Data Science and Bi...   \n",
       "3  Learn how distributed DBs solve the problem of...   \n",
       "4  This video demonstrates the power of IBM DataS...   \n",
       "\n",
       "                                       doc_full_name doc_status  article_id  \n",
       "0  Detect Malfunctioning IoT Sensors with Streami...       Live           0  \n",
       "1  Communicating data science: A guide to present...       Live           1  \n",
       "2         This Week in Data Science (April 18, 2017)       Live           2  \n",
       "3  DataLayer Conference: Boost the performance of...       Live           3  \n",
       "4      Analyze NY Restaurant data using Spark in DSX       Live           4  "
      ]
     },
     "execution_count": 82,
     "metadata": {},
     "output_type": "execute_result"
    }
   ],
   "source": [
    "df_content.head()"
   ]
  },
  {
   "cell_type": "code",
   "execution_count": 83,
   "metadata": {},
   "outputs": [
    {
     "data": {
      "image/png": "[encoded data removed]",
      "text/plain": [
       "<Figure size 432x288 with 1 Axes>"
      ]
     },
     "metadata": {
      "needs_background": "light"
     },
     "output_type": "display_data"
    },
    {
     "data": {
      "image/png": "[encoded data removed]",
      "text/plain": [
       "<Figure size 432x288 with 1 Axes>"
      ]
     },
     "metadata": {
      "needs_background": "light"
     },
     "output_type": "display_data"
    }
   ],
   "source": [
    "from wordcloud import WordCloud, STOPWORDS, ImageColorGenerator\n",
    "# Start with the doc_description\n",
    "# first run we got an unexpected error: sequence item 354: expected str instance, float found\n",
    "# Running df_content.dtypes we discover this doc_description is an object and not a string, so need to cast\n",
    "# cast both to string just in case\n",
    "\n",
    "# Using example from https://towardsdatascience.com/simple-wordcloud-in-python-2ae54a9f58e5\n",
    "def plot_cloud(wordcloud):\n",
    "    '''\n",
    "    INPUT:\n",
    "    wordcloud - list of words to plot\n",
    "    \n",
    "    OUTPUT:\n",
    "    None - visual wordcloud \n",
    "    \n",
    "    Description:\n",
    "    Display a word cloud based on the given wordcloud list of words\n",
    "    '''\n",
    "    # Set figure size\n",
    "    plt.figure(figsize=(40, 30))\n",
    "    # Display image\n",
    "    plt.imshow(wordcloud) \n",
    "    # No axis details\n",
    "    plt.axis(\"off\");\n",
    "\n",
    "doc_description = \" \".join(str(review) for review in df_content.doc_description)\n",
    "doc_full_name = \" \".join(str(review) for review in df_content.doc_full_name)\n",
    "\n",
    "# Create and generate a word cloud image for doc_description\n",
    "wordclouddesc = WordCloud(max_font_size=50, max_words=100).generate(doc_description)\n",
    "# Create and generate a word cloud image for doc_full_name\n",
    "wordcloudfullname = WordCloud(max_font_size=50, max_words=100).generate(doc_full_name)\n",
    "\n",
    "# Display the generated images\n",
    "plt.imshow(wordclouddesc, interpolation='bilinear')\n",
    "plt.axis(\"off\")\n",
    "plt.show()\n",
    "plt.imshow(wordcloudfullname, interpolation='bilinear')\n",
    "plt.axis(\"off\")\n",
    "plt.show()"
   ]
  },
  {
   "cell_type": "markdown",
   "metadata": {},
   "source": [
    "We initially settled on the following content keywords (excluding words that are just too common like Using or just Data): \n",
    "##### Top 10 from doc_description: \n",
    "[ 'database', 'cloudant', 'data science', 'machine learning', 'big data', 'mongodb', 'data scientist', 'tool', 'service', 'ibm' ]\n",
    "##### Top 10 from doc_full_name (not already in above): \n",
    "[ 'python', 'apache', 'spark', 'redis', 'postgresql', 'ibm watson', 'watson', 'data lab', 'api', 'analytic' ]"
   ]
  },
  {
   "cell_type": "markdown",
   "metadata": {},
   "source": [
    "Hmmm, **but** something seems missing when we did some preliminary tests on this data. Do we have enough df_content per given article_id? Looks like no. See below:"
   ]
  },
  {
   "cell_type": "code",
   "execution_count": 84,
   "metadata": {},
   "outputs": [
    {
     "name": "stdout",
     "output_type": "stream",
     "text": [
      "total: 45993, in both: 21454, no content: 24539, only content: 0, % missing: 53%\n"
     ]
    }
   ],
   "source": [
    "df_content.describe()\n",
    "df_all = df.merge(df_content, on=['article_id'], \n",
    "                   how='left', indicator=True)\n",
    "print(\"total: {}, in both: {}, no content: {}, only content: {}, % missing: {:.0%}\".format(df_all.shape[0], df_all.loc[df_all['_merge'] == 'both'].shape[0], df_all.loc[df_all['_merge'] == 'left_only'].shape[0], df_all.loc[df_all['_merge'] == 'right_only'].shape[0], df_all.loc[df_all['_merge'] == 'left_only'].shape[0] / df_all.shape[0]))"
   ]
  },
  {
   "cell_type": "markdown",
   "metadata": {},
   "source": [
    "53% of the articles do not have content. So let's try the word cloud again but switch to just the title and not the doc_description and doc_full_name..."
   ]
  },
  {
   "cell_type": "code",
   "execution_count": 85,
   "metadata": {},
   "outputs": [
    {
     "data": {
      "image/png": "[encoded data removed]",
      "text/plain": [
       "<Figure size 432x288 with 1 Axes>"
      ]
     },
     "metadata": {
      "needs_background": "light"
     },
     "output_type": "display_data"
    }
   ],
   "source": [
    "from wordcloud import WordCloud, STOPWORDS, ImageColorGenerator\n",
    "# Switch to article title\n",
    "article_title = \" \".join(str(review) for review in df.title)\n",
    "\n",
    "# Create and generate a word cloud image for article title\n",
    "wordcloudtitle = WordCloud(max_font_size=150, max_words=100).generate(doc_description)\n",
    "\n",
    "# Display the generated images\n",
    "plt.imshow(wordcloudtitle, interpolation='bilinear')\n",
    "plt.axis(\"off\")\n",
    "plt.show()"
   ]
  },
  {
   "cell_type": "markdown",
   "metadata": {},
   "source": [
    "We see similar terms but narrow down to the following content keywords (excluding words that are just too common like Compose, Use, Using, or just Data):\n",
    "\n",
    "Top 15 from article title:\n",
    "[ 'database', 'cloudant', 'data science', 'machine learning', 'science experience', 'mongodb', 'application', 'tool', 'service', 'data scientist', 'big data', 'api', 'postgresql', 'analytic', 'learn' ]\n",
    "\n",
    "So we update our code below accordingly, call it \"take 2\""
   ]
  },
  {
   "cell_type": "code",
   "execution_count": 86,
   "metadata": {},
   "outputs": [
    {
     "data": {
      "text/html": [
       "<div>\n",
       "<style scoped>\n",
       "    .dataframe tbody tr th:only-of-type {\n",
       "        vertical-align: middle;\n",
       "    }\n",
       "\n",
       "    .dataframe tbody tr th {\n",
       "        vertical-align: top;\n",
       "    }\n",
       "\n",
       "    .dataframe thead th {\n",
       "        text-align: right;\n",
       "    }\n",
       "</style>\n",
       "<table border=\"1\" class=\"dataframe\">\n",
       "  <thead>\n",
       "    <tr style=\"text-align: right;\">\n",
       "      <th></th>\n",
       "      <th>article_id</th>\n",
       "      <th>database</th>\n",
       "      <th>cloudant</th>\n",
       "      <th>data science</th>\n",
       "      <th>machine learning</th>\n",
       "      <th>science experience</th>\n",
       "      <th>mongodb</th>\n",
       "      <th>application</th>\n",
       "      <th>tool</th>\n",
       "      <th>service</th>\n",
       "      <th>data scientist</th>\n",
       "      <th>big data</th>\n",
       "      <th>api</th>\n",
       "      <th>postgresql</th>\n",
       "      <th>analytic</th>\n",
       "      <th>learn</th>\n",
       "    </tr>\n",
       "  </thead>\n",
       "  <tbody>\n",
       "    <tr>\n",
       "      <th>699</th>\n",
       "      <td>1429.0</td>\n",
       "      <td>0</td>\n",
       "      <td>0</td>\n",
       "      <td>0</td>\n",
       "      <td>0</td>\n",
       "      <td>0</td>\n",
       "      <td>0</td>\n",
       "      <td>0</td>\n",
       "      <td>0</td>\n",
       "      <td>0</td>\n",
       "      <td>0</td>\n",
       "      <td>0</td>\n",
       "      <td>0</td>\n",
       "      <td>0</td>\n",
       "      <td>0</td>\n",
       "      <td>1</td>\n",
       "    </tr>\n",
       "    <tr>\n",
       "      <th>625</th>\n",
       "      <td>1330.0</td>\n",
       "      <td>0</td>\n",
       "      <td>0</td>\n",
       "      <td>0</td>\n",
       "      <td>0</td>\n",
       "      <td>0</td>\n",
       "      <td>0</td>\n",
       "      <td>0</td>\n",
       "      <td>0</td>\n",
       "      <td>0</td>\n",
       "      <td>0</td>\n",
       "      <td>0</td>\n",
       "      <td>0</td>\n",
       "      <td>0</td>\n",
       "      <td>0</td>\n",
       "      <td>0</td>\n",
       "    </tr>\n",
       "    <tr>\n",
       "      <th>701</th>\n",
       "      <td>1431.0</td>\n",
       "      <td>0</td>\n",
       "      <td>0</td>\n",
       "      <td>0</td>\n",
       "      <td>0</td>\n",
       "      <td>0</td>\n",
       "      <td>0</td>\n",
       "      <td>0</td>\n",
       "      <td>0</td>\n",
       "      <td>0</td>\n",
       "      <td>0</td>\n",
       "      <td>0</td>\n",
       "      <td>0</td>\n",
       "      <td>0</td>\n",
       "      <td>0</td>\n",
       "      <td>0</td>\n",
       "    </tr>\n",
       "    <tr>\n",
       "      <th>697</th>\n",
       "      <td>1427.0</td>\n",
       "      <td>0</td>\n",
       "      <td>0</td>\n",
       "      <td>0</td>\n",
       "      <td>1</td>\n",
       "      <td>0</td>\n",
       "      <td>0</td>\n",
       "      <td>0</td>\n",
       "      <td>0</td>\n",
       "      <td>0</td>\n",
       "      <td>0</td>\n",
       "      <td>0</td>\n",
       "      <td>1</td>\n",
       "      <td>0</td>\n",
       "      <td>0</td>\n",
       "      <td>1</td>\n",
       "    </tr>\n",
       "    <tr>\n",
       "      <th>652</th>\n",
       "      <td>1364.0</td>\n",
       "      <td>0</td>\n",
       "      <td>0</td>\n",
       "      <td>0</td>\n",
       "      <td>0</td>\n",
       "      <td>0</td>\n",
       "      <td>0</td>\n",
       "      <td>0</td>\n",
       "      <td>0</td>\n",
       "      <td>0</td>\n",
       "      <td>0</td>\n",
       "      <td>0</td>\n",
       "      <td>0</td>\n",
       "      <td>0</td>\n",
       "      <td>0</td>\n",
       "      <td>0</td>\n",
       "    </tr>\n",
       "  </tbody>\n",
       "</table>\n",
       "</div>"
      ],
      "text/plain": [
       "     article_id  database  cloudant  data science  machine learning  \\\n",
       "699      1429.0         0         0             0                 0   \n",
       "625      1330.0         0         0             0                 0   \n",
       "701      1431.0         0         0             0                 0   \n",
       "697      1427.0         0         0             0                 1   \n",
       "652      1364.0         0         0             0                 0   \n",
       "\n",
       "     science experience  mongodb  application  tool  service  data scientist  \\\n",
       "699                   0        0            0     0        0               0   \n",
       "625                   0        0            0     0        0               0   \n",
       "701                   0        0            0     0        0               0   \n",
       "697                   0        0            0     0        0               0   \n",
       "652                   0        0            0     0        0               0   \n",
       "\n",
       "     big data  api  postgresql  analytic  learn  \n",
       "699         0    0           0         0      1  \n",
       "625         0    0           0         0      0  \n",
       "701         0    0           0         0      0  \n",
       "697         0    1           0         0      1  \n",
       "652         0    0           0         0      0  "
      ]
     },
     "execution_count": 86,
     "metadata": {},
     "output_type": "execute_result"
    }
   ],
   "source": [
    "# create the article_content matrix with 1's and 0's\n",
    "#take 2...doc_description_terms = [ 'database', 'cloudant', 'data science', 'machine learning', 'big data', 'mongodb', 'data scientist', 'tool', 'service', 'ibm' ]\n",
    "#take 2...doc_full_name_terms = [ 'python', 'apache', 'spark', 'redis', 'postgresql', 'ibm watson', 'watson', 'data lab', 'api', 'analytic' ]\n",
    "#take 2...content_terms = doc_description_terms + doc_full_name_terms\n",
    "content_terms = [ 'database', 'cloudant', 'data science', 'machine learning', 'science experience', 'mongodb', 'application', 'tool', 'service', 'data scientist', 'big data', 'api', 'postgresql', 'analytic', 'learn' ]\n",
    "\n",
    "def create_article_content_matrix(df=df):\n",
    "    '''\n",
    "    INPUT:\n",
    "    df_content - pandas dataframe with article_id, title, and user_id columns\n",
    "    \n",
    "    OUTPUT:\n",
    "    article_content - article content matrix \n",
    "    \n",
    "    Description:\n",
    "    Return a matrix with article ids as rows and content_terms on the columns with 1 values where an article contains \n",
    "    said term in the title and a 0 otherwise\n",
    "    '''\n",
    "    # Fill in the function here\n",
    "    # We just need unique article_id and title and let's keep number of views just in case we need it later to optimize\n",
    "    article_content = df.groupby(['article_id', 'title']).size().reset_index(name='views').sort_values(['views'], ascending=False)\n",
    "    \n",
    "    # Make the title column lower case for comparison\n",
    "    article_content['title'] = article_content['title'].str.lower()\n",
    "\n",
    "    # Add a column for each term with a 0 or 1 value\n",
    "    for term in content_terms:\n",
    "        # Numpy.where uses | for an OR condition, otherwise you get a weird error: The truth value of a Series is ambiguous \n",
    "        #article_content[term] = np.where(article_content['doc_description'].str.contains(term) | article_content['doc_full_name'].str.contains(term), 1, 0)\n",
    "        article_content[term] = np.where(article_content['title'].str.contains(term), 1, 0)\n",
    "\n",
    "    # Drop columns we don't need...okay maybe we didn't need views\n",
    "    article_content = article_content.drop(['title', 'views'], axis = 1)\n",
    "    \n",
    "    return article_content # return the article content matrix \n",
    "\n",
    "article_content = create_article_content_matrix(df)\n",
    "article_content.head()"
   ]
  },
  {
   "cell_type": "markdown",
   "metadata": {},
   "source": [
    "Some code below to test out our functions..."
   ]
  },
  {
   "cell_type": "code",
   "execution_count": 87,
   "metadata": {},
   "outputs": [
    {
     "data": {
      "text/html": [
       "<div>\n",
       "<style scoped>\n",
       "    .dataframe tbody tr th:only-of-type {\n",
       "        vertical-align: middle;\n",
       "    }\n",
       "\n",
       "    .dataframe tbody tr th {\n",
       "        vertical-align: top;\n",
       "    }\n",
       "\n",
       "    .dataframe thead th {\n",
       "        text-align: right;\n",
       "    }\n",
       "</style>\n",
       "<table border=\"1\" class=\"dataframe\">\n",
       "  <thead>\n",
       "    <tr style=\"text-align: right;\">\n",
       "      <th>article_id</th>\n",
       "      <th>article_id</th>\n",
       "      <th>1427.0</th>\n",
       "      <th>1314.0</th>\n",
       "      <th>1305.0</th>\n",
       "      <th>1176.0</th>\n",
       "      <th>1422.0</th>\n",
       "      <th>1024.0</th>\n",
       "      <th>similarity</th>\n",
       "    </tr>\n",
       "  </thead>\n",
       "  <tbody>\n",
       "    <tr>\n",
       "      <th>1</th>\n",
       "      <td>732.0</td>\n",
       "      <td>3</td>\n",
       "      <td>0</td>\n",
       "      <td>0</td>\n",
       "      <td>0</td>\n",
       "      <td>0</td>\n",
       "      <td>1</td>\n",
       "      <td>4</td>\n",
       "    </tr>\n",
       "    <tr>\n",
       "      <th>2</th>\n",
       "      <td>120.0</td>\n",
       "      <td>2</td>\n",
       "      <td>0</td>\n",
       "      <td>0</td>\n",
       "      <td>0</td>\n",
       "      <td>0</td>\n",
       "      <td>1</td>\n",
       "      <td>3</td>\n",
       "    </tr>\n",
       "    <tr>\n",
       "      <th>3</th>\n",
       "      <td>437.0</td>\n",
       "      <td>2</td>\n",
       "      <td>0</td>\n",
       "      <td>0</td>\n",
       "      <td>0</td>\n",
       "      <td>0</td>\n",
       "      <td>1</td>\n",
       "      <td>3</td>\n",
       "    </tr>\n",
       "    <tr>\n",
       "      <th>4</th>\n",
       "      <td>124.0</td>\n",
       "      <td>2</td>\n",
       "      <td>0</td>\n",
       "      <td>0</td>\n",
       "      <td>0</td>\n",
       "      <td>0</td>\n",
       "      <td>1</td>\n",
       "      <td>3</td>\n",
       "    </tr>\n",
       "    <tr>\n",
       "      <th>5</th>\n",
       "      <td>412.0</td>\n",
       "      <td>2</td>\n",
       "      <td>0</td>\n",
       "      <td>0</td>\n",
       "      <td>0</td>\n",
       "      <td>0</td>\n",
       "      <td>1</td>\n",
       "      <td>3</td>\n",
       "    </tr>\n",
       "  </tbody>\n",
       "</table>\n",
       "</div>"
      ],
      "text/plain": [
       "article_id  article_id  1427.0  1314.0  1305.0  1176.0  1422.0  1024.0  \\\n",
       "1                732.0       3       0       0       0       0       1   \n",
       "2                120.0       2       0       0       0       0       1   \n",
       "3                437.0       2       0       0       0       0       1   \n",
       "4                124.0       2       0       0       0       0       1   \n",
       "5                412.0       2       0       0       0       0       1   \n",
       "\n",
       "article_id  similarity  \n",
       "1                    4  \n",
       "2                    3  \n",
       "3                    3  \n",
       "4                    3  \n",
       "5                    3  "
      ]
     },
     "execution_count": 87,
     "metadata": {},
     "output_type": "execute_result"
    }
   ],
   "source": [
    "user_id = 2\n",
    "user_article_ids, user_article_names = get_user_articles_part2(user_id)\n",
    "# compute similarity of each article to the provided user articles\n",
    "article_rows = article_content.loc[article_content['article_id'].isin(user_article_ids)]\n",
    "article_rows = article_rows.set_index('article_id')\n",
    "article_content_index = article_content.set_index('article_id')\n",
    "predictions = article_rows.dot(article_content_index.transpose())\n",
    "# to get similatiry add up all the dot products per column and transpose, so you will have a list of \n",
    "# articles not already in user_article_ids and we can sort by similarity score or sum of dot products\n",
    "most_similar_articles = predictions.transpose()\n",
    "most_similar_articles['similarity'] = most_similar_articles.sum(axis=1)\n",
    "most_similar_articles = most_similar_articles.sort_values(axis = 0, by = 'similarity', ascending=False)\n",
    "# get rid of the ones in user_article_ids already\n",
    "most_similar_articles.reset_index(inplace=True)\n",
    "most_similar_articles = most_similar_articles[~most_similar_articles.article_id.isin(user_article_ids)]\n",
    "assert 732 == most_similar_articles.head(1).iloc[0]['article_id'], \"Was expecting 732 as top article for this user_id\"\n",
    "most_similar_articles.head()"
   ]
  },
  {
   "cell_type": "markdown",
   "metadata": {},
   "source": [
    "The code below is where we first noticed there was missing content data. So let's try this check again, for a given user make sure we find the corresponding rows on the article_content matrix now. Before for user_id 2, of the 6 articles that user had interacted with only 1 appeared on df_content. Let's try user_id again..."
   ]
  },
  {
   "cell_type": "code",
   "execution_count": 88,
   "metadata": {},
   "outputs": [
    {
     "name": "stdout",
     "output_type": "stream",
     "text": [
      "[1427. 1314. 1305. 1176. 1422. 1024.]\n"
     ]
    },
    {
     "data": {
      "text/html": [
       "<div>\n",
       "<style scoped>\n",
       "    .dataframe tbody tr th:only-of-type {\n",
       "        vertical-align: middle;\n",
       "    }\n",
       "\n",
       "    .dataframe tbody tr th {\n",
       "        vertical-align: top;\n",
       "    }\n",
       "\n",
       "    .dataframe thead th {\n",
       "        text-align: right;\n",
       "    }\n",
       "</style>\n",
       "<table border=\"1\" class=\"dataframe\">\n",
       "  <thead>\n",
       "    <tr style=\"text-align: right;\">\n",
       "      <th></th>\n",
       "      <th>article_id</th>\n",
       "      <th>database</th>\n",
       "      <th>cloudant</th>\n",
       "      <th>data science</th>\n",
       "      <th>machine learning</th>\n",
       "      <th>science experience</th>\n",
       "      <th>mongodb</th>\n",
       "      <th>application</th>\n",
       "      <th>tool</th>\n",
       "      <th>service</th>\n",
       "      <th>data scientist</th>\n",
       "      <th>big data</th>\n",
       "      <th>api</th>\n",
       "      <th>postgresql</th>\n",
       "      <th>analytic</th>\n",
       "      <th>learn</th>\n",
       "    </tr>\n",
       "  </thead>\n",
       "  <tbody>\n",
       "    <tr>\n",
       "      <th>697</th>\n",
       "      <td>1427.0</td>\n",
       "      <td>0</td>\n",
       "      <td>0</td>\n",
       "      <td>0</td>\n",
       "      <td>1</td>\n",
       "      <td>0</td>\n",
       "      <td>0</td>\n",
       "      <td>0</td>\n",
       "      <td>0</td>\n",
       "      <td>0</td>\n",
       "      <td>0</td>\n",
       "      <td>0</td>\n",
       "      <td>1</td>\n",
       "      <td>0</td>\n",
       "      <td>0</td>\n",
       "      <td>1</td>\n",
       "    </tr>\n",
       "    <tr>\n",
       "      <th>614</th>\n",
       "      <td>1314.0</td>\n",
       "      <td>0</td>\n",
       "      <td>0</td>\n",
       "      <td>0</td>\n",
       "      <td>0</td>\n",
       "      <td>0</td>\n",
       "      <td>0</td>\n",
       "      <td>1</td>\n",
       "      <td>0</td>\n",
       "      <td>0</td>\n",
       "      <td>0</td>\n",
       "      <td>0</td>\n",
       "      <td>0</td>\n",
       "      <td>0</td>\n",
       "      <td>0</td>\n",
       "      <td>0</td>\n",
       "    </tr>\n",
       "    <tr>\n",
       "      <th>609</th>\n",
       "      <td>1305.0</td>\n",
       "      <td>0</td>\n",
       "      <td>0</td>\n",
       "      <td>0</td>\n",
       "      <td>0</td>\n",
       "      <td>0</td>\n",
       "      <td>0</td>\n",
       "      <td>0</td>\n",
       "      <td>0</td>\n",
       "      <td>0</td>\n",
       "      <td>0</td>\n",
       "      <td>0</td>\n",
       "      <td>0</td>\n",
       "      <td>0</td>\n",
       "      <td>0</td>\n",
       "      <td>0</td>\n",
       "    </tr>\n",
       "    <tr>\n",
       "      <th>532</th>\n",
       "      <td>1176.0</td>\n",
       "      <td>0</td>\n",
       "      <td>0</td>\n",
       "      <td>0</td>\n",
       "      <td>0</td>\n",
       "      <td>0</td>\n",
       "      <td>0</td>\n",
       "      <td>0</td>\n",
       "      <td>0</td>\n",
       "      <td>1</td>\n",
       "      <td>0</td>\n",
       "      <td>0</td>\n",
       "      <td>0</td>\n",
       "      <td>0</td>\n",
       "      <td>1</td>\n",
       "      <td>0</td>\n",
       "    </tr>\n",
       "    <tr>\n",
       "      <th>692</th>\n",
       "      <td>1422.0</td>\n",
       "      <td>0</td>\n",
       "      <td>0</td>\n",
       "      <td>0</td>\n",
       "      <td>0</td>\n",
       "      <td>0</td>\n",
       "      <td>0</td>\n",
       "      <td>0</td>\n",
       "      <td>0</td>\n",
       "      <td>0</td>\n",
       "      <td>0</td>\n",
       "      <td>0</td>\n",
       "      <td>0</td>\n",
       "      <td>0</td>\n",
       "      <td>0</td>\n",
       "      <td>0</td>\n",
       "    </tr>\n",
       "    <tr>\n",
       "      <th>425</th>\n",
       "      <td>1024.0</td>\n",
       "      <td>0</td>\n",
       "      <td>0</td>\n",
       "      <td>0</td>\n",
       "      <td>0</td>\n",
       "      <td>0</td>\n",
       "      <td>0</td>\n",
       "      <td>0</td>\n",
       "      <td>0</td>\n",
       "      <td>0</td>\n",
       "      <td>0</td>\n",
       "      <td>0</td>\n",
       "      <td>0</td>\n",
       "      <td>0</td>\n",
       "      <td>0</td>\n",
       "      <td>1</td>\n",
       "    </tr>\n",
       "  </tbody>\n",
       "</table>\n",
       "</div>"
      ],
      "text/plain": [
       "     article_id  database  cloudant  data science  machine learning  \\\n",
       "697      1427.0         0         0             0                 1   \n",
       "614      1314.0         0         0             0                 0   \n",
       "609      1305.0         0         0             0                 0   \n",
       "532      1176.0         0         0             0                 0   \n",
       "692      1422.0         0         0             0                 0   \n",
       "425      1024.0         0         0             0                 0   \n",
       "\n",
       "     science experience  mongodb  application  tool  service  data scientist  \\\n",
       "697                   0        0            0     0        0               0   \n",
       "614                   0        0            1     0        0               0   \n",
       "609                   0        0            0     0        0               0   \n",
       "532                   0        0            0     0        1               0   \n",
       "692                   0        0            0     0        0               0   \n",
       "425                   0        0            0     0        0               0   \n",
       "\n",
       "     big data  api  postgresql  analytic  learn  \n",
       "697         0    1           0         0      1  \n",
       "614         0    0           0         0      0  \n",
       "609         0    0           0         0      0  \n",
       "532         0    0           0         1      0  \n",
       "692         0    0           0         0      0  \n",
       "425         0    0           0         0      1  "
      ]
     },
     "execution_count": 88,
     "metadata": {},
     "output_type": "execute_result"
    }
   ],
   "source": [
    "user_id = 2\n",
    "user_article_ids, user_article_names = get_user_articles_part2(user_id)\n",
    "print(user_article_ids)\n",
    "#user_article_ids = [1427,1314,1305,1176,1422,1024]\n",
    "####df_content only covers 53% of the articles...take 2...user_matrix = df_content.loc[df_content['article_id'].isin(user_article_ids)]\n",
    "user_article_ids, user_article_names = get_user_articles_part2(user_id)\n",
    "#user_matrix = article_content.loc[article_content['article_id'].isin(user_article_ids)]\n",
    "user_matrix = article_content.loc[article_content['article_id'].isin(user_article_ids)]\n",
    "assert 1427 == user_matrix.head(1).iloc[0]['article_id'], \"Was expecting 1427 as top article for this user_id\"\n",
    "user_matrix.head(len(user_article_ids))"
   ]
  },
  {
   "cell_type": "markdown",
   "metadata": {},
   "source": [
    "Okay, better. We find all the user articles as expected. Let's proceed with this version of the article_content matrix."
   ]
  },
  {
   "cell_type": "code",
   "execution_count": 89,
   "metadata": {},
   "outputs": [
    {
     "name": "stdout",
     "output_type": "stream",
     "text": [
      "([732.0, 120.0, 437.0, 124.0, 412.0, 1297.0, 721.0, 500.0, 723.0, 250.0], array([], dtype=object))\n",
      "([195.0, 26.0, 809.0, 500.0, 250.0, 871.0, 1297.0, 833.0, 732.0, 260.0], array([], dtype=object))\n"
     ]
    }
   ],
   "source": [
    "def make_content_recs(user_id, articles_i_like=[], m=10, article_content=article_content):\n",
    "    '''\n",
    "    INPUT:\n",
    "    user_id - (int) a user id\n",
    "    articles_i_like - (array or list) article ids a user has liked, this is for the case where the user does not\n",
    "                    show up as interacting with any articles\n",
    "    m - (int) the number of recommendations you want for the user\n",
    "    article_content - (matrix) the article content matrix \n",
    "    \n",
    "    OUTPUT:\n",
    "    recs - (list) a list of recommendations for the user by article id\n",
    "    rec_names - (list) a list of recommendations for the user by article title\n",
    "    \n",
    "    Description:\n",
    "    Get the user\n",
    "    \n",
    "    Notes:\n",
    "    * Allows the caller to pass either a non-zero user_id or a list of articles they like for new users\n",
    "    or users that do not have any interactions yet\n",
    "    \n",
    "    '''\n",
    "    # compute similarity of each user article to the other articles in the article_content matrix\n",
    "    # get the matrix representing the articles for this user_id *or* use the given articles (e.g. a new user)\n",
    "    if user_id == 0 or len(articles_i_like) > 0:\n",
    "        user_article_ids = articles_i_like\n",
    "        user_article_names = get_article_names(user_article_ids)\n",
    "    else:\n",
    "        user_article_ids, user_article_names = get_user_articles_part2(user_id)\n",
    "    # compute similarity of each article to the provided user articles\n",
    "    article_rows = article_content.loc[article_content['article_id'].isin(user_article_ids)]\n",
    "    article_rows = article_rows.set_index('article_id')\n",
    "    article_content_index = article_content.set_index('article_id')\n",
    "    predictions = article_rows.dot(article_content_index.transpose())\n",
    "    \n",
    "    # to get similatiry add up all the dot products per column and transpose, so you will have a list of \n",
    "    # articles not already in user_article_ids and we can sort by similarity score or sum of dot products\n",
    "    most_similar_articles = predictions.transpose()\n",
    "    most_similar_articles['similarity'] = most_similar_articles.sum(axis=1)\n",
    "    most_similar_articles = most_similar_articles.sort_values(axis = 0, by = 'similarity', ascending=False)\n",
    "    \n",
    "    # get rid of the ones in user_article_ids already\n",
    "    most_similar_articles.reset_index(inplace=True)\n",
    "    most_similar_articles = most_similar_articles[~most_similar_articles.article_id.isin(user_article_ids)]\n",
    "\n",
    "    # create list of just the ids\n",
    "    recs = most_similar_articles['article_id'].head(m).tolist()\n",
    "    rec_names = get_article_names(recs)\n",
    "    \n",
    "    return recs, rec_names # return a list of the users in order from most to least similar\n",
    "# test existing user\n",
    "print(make_content_recs(2))\n",
    "# test user with no interactions recorded but a user who likes a given set of articles\n",
    "print(make_content_recs(0, [723.0]))"
   ]
  },
  {
   "cell_type": "markdown",
   "metadata": {},
   "source": [
    "`2.` Now that you have put together your content-based recommendation system, use the cell below to write a summary explaining how your content based recommender works.  Do you see any possible improvements that could be made to your function?  Is there anything novel about your content based recommender?\n",
    "\n",
    "#### How I would improve the content based recommendation system? \n",
    "We can develop a way to test the effectiveness of the words we have chosen to test for. Perhaps 15 is not nearly enough terms, maybe it should be closer to 150 terms. We can test this by gathering words not based on a word cloud but programmatically grab the top 150 words or vary the number of words/terms then iterate across each set, e.g. test the original 15 then compare to adding the next 10 terms, etc. until we see diminishing returns because we may end up with words that are too common to make any difference. But that way we can narrow down the number of terms to use to see how well we perform based on a known set of data. I also thought about splitting up the data into a learning set and a test set, however, that is not necessarily comparing apples to apples as we are not necessarily testing the results of our recommendations but the views other users have selected.\n",
    "\n",
    "#### Other options with this same approach\n",
    "What we built here is **Content Based**, so more like \"based on something you interacted with or based on what you say you like, I can recommend other similar ones based on content.\" However, we could simply provide our list of 15 terms or so like a list of radio box options where you can say something like \"I don't know exactly what article I want but give something on 'machine learning' and 'watson' or 'deep learning', etc.\" Same concept but different approach more like a **Knowledge Based** approach."
   ]
  },
  {
   "cell_type": "markdown",
   "metadata": {},
   "source": [
    "`3.` Use your content-recommendation system to make recommendations for the below scenarios based on the comments.  Again no tests are provided here, because there isn't one right answer that could be used to find these content based recommendations."
   ]
  },
  {
   "cell_type": "code",
   "execution_count": 90,
   "metadata": {},
   "outputs": [
    {
     "name": "stdout",
     "output_type": "stream",
     "text": [
      "[1429. 1330. 1431. 1427. 1364. 1314. 1293. 1170. 1162. 1304.]\n",
      "([732.0, 124.0, 784.0, 412.0, 437.0, 284.0, 74.0, 40.0, 89.0, 260.0], array([], dtype=object))\n"
     ]
    }
   ],
   "source": [
    "# make recommendations for a brand new user...same as before just return the top articles\n",
    "print (get_top_article_ids(10))\n",
    "\n",
    "# But then we can immediately make more recommendations as soon as they interact with their first, then second article, etc.\n",
    "\n",
    "# make recommendations for a user who only has interacted with article id '1427.0'\n",
    "print(make_content_recs(0, [1427.0]))"
   ]
  },
  {
   "cell_type": "markdown",
   "metadata": {},
   "source": [
    "### <a class=\"anchor\" id=\"Matrix-Fact\">Part V: Matrix Factorization</a>\n",
    "\n",
    "In this part of the notebook, we will build use matrix factorization to make article recommendations to the users on the IBM Watson Studio platform.\n",
    "\n",
    "`1.` You should have already created a **user_item** matrix above in **question 1** of **Part III** above.  This first question here will just require that you run the cells to get things set up for the rest of **Part V** of the notebook. "
   ]
  },
  {
   "cell_type": "code",
   "execution_count": 91,
   "metadata": {},
   "outputs": [],
   "source": [
    "#NOTE: The user_item_matrix.p pickle file exceeds the 25M limit on GitHub files right now on my account\n",
    "#So we'll just reuse the user_matrix we built above\n",
    "# Load the matrix here\n",
    "#user_item_matrix = pd.read_pickle('user_item_matrix.p')\n",
    "user_item_matrix = user_item"
   ]
  },
  {
   "cell_type": "code",
   "execution_count": 92,
   "metadata": {},
   "outputs": [
    {
     "data": {
      "text/html": [
       "<div>\n",
       "<style scoped>\n",
       "    .dataframe tbody tr th:only-of-type {\n",
       "        vertical-align: middle;\n",
       "    }\n",
       "\n",
       "    .dataframe tbody tr th {\n",
       "        vertical-align: top;\n",
       "    }\n",
       "\n",
       "    .dataframe thead tr th {\n",
       "        text-align: left;\n",
       "    }\n",
       "\n",
       "    .dataframe thead tr:last-of-type th {\n",
       "        text-align: right;\n",
       "    }\n",
       "</style>\n",
       "<table border=\"1\" class=\"dataframe\">\n",
       "  <thead>\n",
       "    <tr>\n",
       "      <th></th>\n",
       "      <th colspan=\"21\" halign=\"left\">title</th>\n",
       "    </tr>\n",
       "    <tr>\n",
       "      <th>article_id</th>\n",
       "      <th>0.0</th>\n",
       "      <th>2.0</th>\n",
       "      <th>4.0</th>\n",
       "      <th>8.0</th>\n",
       "      <th>9.0</th>\n",
       "      <th>12.0</th>\n",
       "      <th>14.0</th>\n",
       "      <th>15.0</th>\n",
       "      <th>16.0</th>\n",
       "      <th>18.0</th>\n",
       "      <th>...</th>\n",
       "      <th>1434.0</th>\n",
       "      <th>1435.0</th>\n",
       "      <th>1436.0</th>\n",
       "      <th>1437.0</th>\n",
       "      <th>1439.0</th>\n",
       "      <th>1440.0</th>\n",
       "      <th>1441.0</th>\n",
       "      <th>1442.0</th>\n",
       "      <th>1443.0</th>\n",
       "      <th>1444.0</th>\n",
       "    </tr>\n",
       "    <tr>\n",
       "      <th>user_id</th>\n",
       "      <th></th>\n",
       "      <th></th>\n",
       "      <th></th>\n",
       "      <th></th>\n",
       "      <th></th>\n",
       "      <th></th>\n",
       "      <th></th>\n",
       "      <th></th>\n",
       "      <th></th>\n",
       "      <th></th>\n",
       "      <th></th>\n",
       "      <th></th>\n",
       "      <th></th>\n",
       "      <th></th>\n",
       "      <th></th>\n",
       "      <th></th>\n",
       "      <th></th>\n",
       "      <th></th>\n",
       "      <th></th>\n",
       "      <th></th>\n",
       "      <th></th>\n",
       "    </tr>\n",
       "  </thead>\n",
       "  <tbody>\n",
       "    <tr>\n",
       "      <th>1</th>\n",
       "      <td>0</td>\n",
       "      <td>0</td>\n",
       "      <td>0</td>\n",
       "      <td>0</td>\n",
       "      <td>0</td>\n",
       "      <td>0</td>\n",
       "      <td>0</td>\n",
       "      <td>0</td>\n",
       "      <td>0</td>\n",
       "      <td>0</td>\n",
       "      <td>...</td>\n",
       "      <td>0</td>\n",
       "      <td>0</td>\n",
       "      <td>1</td>\n",
       "      <td>0</td>\n",
       "      <td>1</td>\n",
       "      <td>0</td>\n",
       "      <td>0</td>\n",
       "      <td>0</td>\n",
       "      <td>0</td>\n",
       "      <td>0</td>\n",
       "    </tr>\n",
       "    <tr>\n",
       "      <th>2</th>\n",
       "      <td>0</td>\n",
       "      <td>0</td>\n",
       "      <td>0</td>\n",
       "      <td>0</td>\n",
       "      <td>0</td>\n",
       "      <td>0</td>\n",
       "      <td>0</td>\n",
       "      <td>0</td>\n",
       "      <td>0</td>\n",
       "      <td>0</td>\n",
       "      <td>...</td>\n",
       "      <td>0</td>\n",
       "      <td>0</td>\n",
       "      <td>0</td>\n",
       "      <td>0</td>\n",
       "      <td>0</td>\n",
       "      <td>0</td>\n",
       "      <td>0</td>\n",
       "      <td>0</td>\n",
       "      <td>0</td>\n",
       "      <td>0</td>\n",
       "    </tr>\n",
       "    <tr>\n",
       "      <th>3</th>\n",
       "      <td>0</td>\n",
       "      <td>0</td>\n",
       "      <td>0</td>\n",
       "      <td>0</td>\n",
       "      <td>0</td>\n",
       "      <td>1</td>\n",
       "      <td>0</td>\n",
       "      <td>0</td>\n",
       "      <td>0</td>\n",
       "      <td>0</td>\n",
       "      <td>...</td>\n",
       "      <td>0</td>\n",
       "      <td>0</td>\n",
       "      <td>1</td>\n",
       "      <td>0</td>\n",
       "      <td>0</td>\n",
       "      <td>0</td>\n",
       "      <td>0</td>\n",
       "      <td>0</td>\n",
       "      <td>0</td>\n",
       "      <td>0</td>\n",
       "    </tr>\n",
       "    <tr>\n",
       "      <th>4</th>\n",
       "      <td>0</td>\n",
       "      <td>0</td>\n",
       "      <td>0</td>\n",
       "      <td>0</td>\n",
       "      <td>0</td>\n",
       "      <td>0</td>\n",
       "      <td>0</td>\n",
       "      <td>0</td>\n",
       "      <td>0</td>\n",
       "      <td>0</td>\n",
       "      <td>...</td>\n",
       "      <td>0</td>\n",
       "      <td>0</td>\n",
       "      <td>0</td>\n",
       "      <td>0</td>\n",
       "      <td>0</td>\n",
       "      <td>0</td>\n",
       "      <td>0</td>\n",
       "      <td>0</td>\n",
       "      <td>0</td>\n",
       "      <td>0</td>\n",
       "    </tr>\n",
       "    <tr>\n",
       "      <th>5</th>\n",
       "      <td>0</td>\n",
       "      <td>0</td>\n",
       "      <td>0</td>\n",
       "      <td>0</td>\n",
       "      <td>0</td>\n",
       "      <td>0</td>\n",
       "      <td>0</td>\n",
       "      <td>0</td>\n",
       "      <td>0</td>\n",
       "      <td>0</td>\n",
       "      <td>...</td>\n",
       "      <td>0</td>\n",
       "      <td>0</td>\n",
       "      <td>0</td>\n",
       "      <td>0</td>\n",
       "      <td>0</td>\n",
       "      <td>0</td>\n",
       "      <td>0</td>\n",
       "      <td>0</td>\n",
       "      <td>0</td>\n",
       "      <td>0</td>\n",
       "    </tr>\n",
       "  </tbody>\n",
       "</table>\n",
       "<p>5 rows × 714 columns</p>\n",
       "</div>"
      ],
      "text/plain": [
       "            title                                                          \\\n",
       "article_id 0.0    2.0    4.0    8.0    9.0    12.0   14.0   15.0   16.0     \n",
       "user_id                                                                     \n",
       "1               0      0      0      0      0      0      0      0      0   \n",
       "2               0      0      0      0      0      0      0      0      0   \n",
       "3               0      0      0      0      0      1      0      0      0   \n",
       "4               0      0      0      0      0      0      0      0      0   \n",
       "5               0      0      0      0      0      0      0      0      0   \n",
       "\n",
       "                   ...                                                   \\\n",
       "article_id 18.0    ... 1434.0 1435.0 1436.0 1437.0 1439.0 1440.0 1441.0   \n",
       "user_id            ...                                                    \n",
       "1               0  ...      0      0      1      0      1      0      0   \n",
       "2               0  ...      0      0      0      0      0      0      0   \n",
       "3               0  ...      0      0      1      0      0      0      0   \n",
       "4               0  ...      0      0      0      0      0      0      0   \n",
       "5               0  ...      0      0      0      0      0      0      0   \n",
       "\n",
       "                                 \n",
       "article_id 1442.0 1443.0 1444.0  \n",
       "user_id                          \n",
       "1               0      0      0  \n",
       "2               0      0      0  \n",
       "3               0      0      0  \n",
       "4               0      0      0  \n",
       "5               0      0      0  \n",
       "\n",
       "[5 rows x 714 columns]"
      ]
     },
     "execution_count": 92,
     "metadata": {},
     "output_type": "execute_result"
    }
   ],
   "source": [
    "# quick look at the matrix\n",
    "user_item_matrix.head()"
   ]
  },
  {
   "cell_type": "markdown",
   "metadata": {},
   "source": [
    "`2.` In this situation, you can use Singular Value Decomposition from [numpy](https://docs.scipy.org/doc/numpy-1.14.0/reference/generated/numpy.linalg.svd.html) on the user-item matrix.  Use the cell to perform SVD, and explain why this is different than in the lesson."
   ]
  },
  {
   "cell_type": "code",
   "execution_count": 93,
   "metadata": {},
   "outputs": [
    {
     "data": {
      "text/plain": [
       "((714,), (5149, 5149), (714, 714))"
      ]
     },
     "execution_count": 93,
     "metadata": {},
     "output_type": "execute_result"
    }
   ],
   "source": [
    "# Perform SVD on the User-Item Matrix Here\n",
    "u, s, vt = np.linalg.svd(user_item_matrix)# use the built in to get the three matrices\n",
    "s.shape, u.shape, vt.shape"
   ]
  },
  {
   "cell_type": "markdown",
   "metadata": {},
   "source": [
    "**Provide your response here.**\n",
    "This user item matrix data is different from the lesson in just sheer size alone. We have a **LOT MORE** potential latent factors with this data: 5,149, whereas our SVC lesson it was a much smaller data set, only 20. Meaning right now our U matrix is square with 5,149 articles. In the lesson we were looking at 4 users and 20 latent features."
   ]
  },
  {
   "cell_type": "markdown",
   "metadata": {},
   "source": [
    "`3.` Now for the tricky part, how do we choose the number of latent features to use?  Running the below cell, you can see that as the number of latent features increases, we obtain a lower error rate on making predictions for the 1 and 0 values in the user-item matrix.  Run the cell below to get an idea of how the accuracy improves as we increase the number of latent features."
   ]
  },
  {
   "cell_type": "code",
   "execution_count": 94,
   "metadata": {},
   "outputs": [
    {
     "data": {
      "image/png": "[encoded data removed]",
      "text/plain": [
       "<Figure size 432x288 with 1 Axes>"
      ]
     },
     "metadata": {
      "needs_background": "light"
     },
     "output_type": "display_data"
    }
   ],
   "source": [
    "num_latent_feats = np.arange(10,700+10,20)\n",
    "sum_errs = []\n",
    "\n",
    "for k in num_latent_feats:\n",
    "    # restructure with k latent features\n",
    "    s_new, u_new, vt_new = np.diag(s[:k]), u[:, :k], vt[:k, :]\n",
    "    \n",
    "    # take dot product\n",
    "    user_item_est = np.around(np.dot(np.dot(u_new, s_new), vt_new))\n",
    "    \n",
    "    # compute error for each prediction to actual value\n",
    "    diffs = np.subtract(user_item_matrix, user_item_est)\n",
    "    \n",
    "    # total errors and keep track of them\n",
    "    err = np.sum(np.sum(np.abs(diffs)))\n",
    "    sum_errs.append(err)\n",
    "    \n",
    "    \n",
    "plt.plot(num_latent_feats, 1 - np.array(sum_errs)/df.shape[0]);\n",
    "plt.xlabel('Number of Latent Features');\n",
    "plt.ylabel('Accuracy');\n",
    "plt.title('Accuracy vs. Number of Latent Features');"
   ]
  },
  {
   "cell_type": "markdown",
   "metadata": {},
   "source": [
    "`4.` From the above, we can't really be sure how many features to use, because simply having a better way to predict the 1's and 0's of the matrix doesn't exactly give us an indication of if we are able to make good recommendations.  Instead, we might split our dataset into a training and test set of data, as shown in the cell below.  \n",
    "\n",
    "Use the code from question 3 to understand the impact on accuracy of the training and test sets of data with different numbers of latent features. Using the split below: \n",
    "\n",
    "* How many users can we make predictions for in the test set?  \n",
    "* How many users are we not able to make predictions for because of the cold start problem?\n",
    "* How many articles can we make predictions for in the test set?  \n",
    "* How many articles are we not able to make predictions for because of the cold start problem?"
   ]
  },
  {
   "cell_type": "code",
   "execution_count": 259,
   "metadata": {},
   "outputs": [
    {
     "name": "stdout",
     "output_type": "stream",
     "text": [
      "How many users can we make predictions for in the test set? 20\n",
      "How many users in the test set are we not able to make predictions? 662\n",
      "How many articles can we make predictions for in the test set? 574\n",
      "How many articles in the test set are we not able to make predictions: 0\n"
     ]
    }
   ],
   "source": [
    "df_train = df.head(40000)\n",
    "df_test = df.tail(5993)\n",
    "\n",
    "def create_test_and_train_user_item(df_train, df_test):\n",
    "    '''\n",
    "    INPUT:\n",
    "    df_train - training dataframe\n",
    "    df_test - test dataframe\n",
    "    \n",
    "    OUTPUT:\n",
    "    user_item_train - a user-item matrix of the training dataframe \n",
    "                      (unique users for each row and unique articles for each column)\n",
    "    user_item_test - a user-item matrix of the testing dataframe \n",
    "                    (unique users for each row and unique articles for each column)\n",
    "    test_idx - all of the test user ids\n",
    "    test_arts - all of the test article ids\n",
    "    \n",
    "    '''\n",
    "    # a user-item matrix of the training dataframe\n",
    "    user_item_train = df_train.groupby(['user_id', 'article_id']).max().unstack().applymap(lambda x: 0 if pd.isnull(x) else 1)\n",
    "    \n",
    "    # a user-item matrix of the testing dataframe \n",
    "    user_item_test = df_test.groupby(['user_id', 'article_id']).max().unstack().applymap(lambda x: 0 if pd.isnull(x) else 1)\n",
    "    \n",
    "    # Build an array of all the unique user_ids in df_test\n",
    "    test_idx = np.array(df_test.user_id.unique())\n",
    "    \n",
    "    # Build an array of all the unique article_ids in df_test\n",
    "    test_arts = np.array(df_test.article_id.unique())\n",
    "    \n",
    "    return user_item_train, user_item_test, test_idx, test_arts\n",
    "\n",
    "user_item_train, user_item_test, test_idx, test_arts = create_test_and_train_user_item(df_train, df_test)\n",
    "\n",
    "df_train_user_id = user_item_train.reset_index()\n",
    "df_train_article_id = user_item_train.drop('title', axis = 1).melt()\n",
    "\n",
    "test_users_we_can_predict = df_train_user_id[df_train_user_id.user_id.isin(test_idx)]\n",
    "print(\"How many users can we make predictions for in the test set? {}\".format(test_users_we_can_predict.shape[0]))\n",
    "print(\"How many users in the test set are we not able to make predictions? {}\".format(len(test_idx) - test_users_we_can_predict.shape[0]))\n",
    "print(\"How many articles can we make predictions for in the test set? {}\".format(len(test_arts)))\n",
    "print(\"How many articles in the test set are we not able to make predictions: {}\".format(df_train_article_id[~df_train_article_id.value.isin(test_arts)].shape[0]))"
   ]
  },
  {
   "cell_type": "code",
   "execution_count": 260,
   "metadata": {},
   "outputs": [
    {
     "name": "stdout",
     "output_type": "stream",
     "text": [
      "Awesome job!  That's right!  All of the test articles are in the training data, but there are only 20 test users that were also in the training set.  All of the other users that are in the test set we have no data on.  Therefore, we cannot make predictions for these users using SVD.\n"
     ]
    }
   ],
   "source": [
    "# Replace the values in the dictionary below\n",
    "a = 662 \n",
    "b = 574 \n",
    "c = 20 \n",
    "d = 0 \n",
    "\n",
    "\n",
    "sol_4_dict = {\n",
    "    'How many users can we make predictions for in the test set?': c, \n",
    "    'How many users in the test set are we not able to make predictions for because of the cold start problem?': a, \n",
    "    'How many articles can we make predictions for in the test set?': b,\n",
    "    'How many articles in the test set are we not able to make predictions for because of the cold start problem?': d,\n",
    "}\n",
    "\n",
    "t.sol_4_test(sol_4_dict)"
   ]
  },
  {
   "cell_type": "markdown",
   "metadata": {},
   "source": [
    "If you see an error above like:\n",
    "\n",
    ">KeyError: 'How many movies can we make predictions for in the test set?'\n",
    "\n",
    "It is because there seems to be an error in the included test code. Possibly a copy/paste error because it was checking for 'How many movies can we make predictions for in the test set?' rather than 'How many articles can we make predictions for in the test set?' We submitted feedback on this. Otherwise you should see a message that starts with \"Awesome job!\" and we can move on."
   ]
  },
  {
   "cell_type": "markdown",
   "metadata": {},
   "source": [
    "`5.` Now use the **user_item_train** dataset from above to find U, S, and V transpose using SVD. Then find the subset of rows in the **user_item_test** dataset that you can predict using this matrix decomposition with different numbers of latent features to see how many features makes sense to keep based on the accuracy on the test data. This will require combining what was done in questions `2` - `4`.\n",
    "\n",
    "Use the cells below to explore how well SVD works towards making predictions for recommendations on the test data.  "
   ]
  },
  {
   "cell_type": "markdown",
   "metadata": {},
   "source": [
    "For the users that we can make predictions on we will now validate the predictions for the user-article pairs that do exist. Meaning we have to remove the 662 users for which we cannot predict."
   ]
  },
  {
   "cell_type": "code",
   "execution_count": 280,
   "metadata": {},
   "outputs": [
    {
     "data": {
      "image/png": "[encoded data removed]",
      "text/plain": [
       "<Figure size 432x288 with 1 Axes>"
      ]
     },
     "metadata": {
      "needs_background": "light"
     },
     "output_type": "display_data"
    }
   ],
   "source": [
    "# narrow down those users in the test set which are available in the training set\n",
    "# with help from https://knowledge.udacity.com/questions/631688 on this part of the code\n",
    "row_idx = user_item_train.index.isin(test_idx)\n",
    "# At first we tried user_item_train.columns.isin(test_arts) but the article columns \n",
    "# are tuples so we have to convert here first\n",
    "test_arts_tuples = tuple(('title', i) for i in test_arts)\n",
    "col_idx = user_item_train.columns.isin(test_arts_tuples)\n",
    "\n",
    "u_test = u_train[row_idx, :]\n",
    "vt_test = vt_train[:, col_idx]\n",
    "\n",
    "u_train, s_train, vt_train = np.linalg.svd(user_item_train)\n",
    "\n",
    "num_latent_feats = np.arange(10,400+10,20)\n",
    "sum_train = []\n",
    "sum_errs = []\n",
    "\n",
    "# We need to compare to (20, 574) or (# of users we can use, # of articles we can use) due to cold start\n",
    "user_item_compare = user_item_test.reset_index()\n",
    "user_item_compare = user_item_compare[user_item_compare['user_id'].isin(test_users_we_can_predict['user_id'].values)]\n",
    "user_item_compare = user_item_compare.set_index('user_id')\n",
    "\n",
    "for k in num_latent_feats:\n",
    "    # restructure with k latent features\n",
    "    s_train_lat = np.diag(s_train[:k])\n",
    "    u_test_lat, vt_test_lat = u_test[:, :k], vt_test[:k, :]\n",
    "\n",
    "    #print(k)\n",
    "    test_pred = np.around(np.dot(np.dot(u_test_lat, s_train_lat), vt_test_lat))\n",
    "    \n",
    "    # compute error for each prediction to actual value\n",
    "    diffs = np.subtract(user_item_compare, test_pred)\n",
    "    ###diffs2 = np.subtract(user_item_train, test_pred)\n",
    "    \n",
    "    # total errors and keep track of them\n",
    "    err = np.sum(np.sum(np.abs(diffs)))\n",
    "    sum_errs.append(err)\n",
    "    \n",
    "    ###sum_train.append(np.sum(np.sum(np.abs(diffs2))))\n",
    "    \n",
    "###plt.plot(num_latent_feats, 1 / np.array(sum_errs)/df.shape[0], label = \"Train\");\n",
    "plt.plot(num_latent_feats, 1 - np.array(sum_errs)/df.shape[0], label = \"Test\")\n",
    "plt.xlabel('Number of Latent Features');\n",
    "plt.legend()\n",
    "##plt.ylabel('Accuracy');\n",
    "plt.title('Train and Test vs. Number of Latent Features');"
   ]
  },
  {
   "cell_type": "markdown",
   "metadata": {
    "collapsed": true
   },
   "source": [
    "`6.` Use the cell below to comment on the results you found in the previous question. Given the circumstances of your results, discuss what you might do to determine if the recommendations you make with any of the above recommendation systems are an improvement to how users currently find articles? "
   ]
  },
  {
   "cell_type": "markdown",
   "metadata": {},
   "source": [
    "In order to really know if the recommendations made are effective or an improvement is to split the data into training and test like we did above and then see if your predicitions match the resulting test data."
   ]
  },
  {
   "cell_type": "markdown",
   "metadata": {
    "collapsed": true
   },
   "source": [
    "<a id='conclusions'></a>\n",
    "### Extras\n",
    "Using your workbook, you could now save your recommendations for each user, develop a class to make new predictions and update your results, and make a flask app to deploy your results.  These tasks are beyond what is required for this project.  However, from what you learned in the lessons, you certainly capable of taking these tasks on to improve upon your work here!\n",
    "\n",
    "\n",
    "## Conclusion\n",
    "\n",
    "> Congratulations!  You have reached the end of the Recommendations with IBM project! \n",
    "\n",
    "We explored the IBM cloud article user data, did some analysis and clean up of duplicates, created some Rank-Based recommendations (e.g. what are the top 10 articles?), created some user to user based Collaborative Filtering (e.g. based on other users who interacted with similar articles show new articles you can recommend for a user) and improved the consistency using raking. We also incoporated a new recommendation method that used Content-Based recommendations by incorporating a word cloud that gave us the most used terms in article titles then gave user recommendations based on similarity of article titles. Finally, we employed Matrix Factorization to show we can use SVD on our user item matrix an assess the accuracy of our predictions by breaking up our data into training and test data.\n",
    "\n",
    "\n",
    "## Directions to Submit\n",
    "\n",
    "> Before you submit your project, you need to create a .html or .pdf version of this notebook in the workspace here. To do that, run the code cell below. If it worked correctly, you should get a return code of 0, and you should see the generated .html file in the workspace directory (click on the orange Jupyter icon in the upper left).\n",
    "\n",
    "> Alternatively, you can download this report as .html via the **File** > **Download as** submenu, and then manually upload it into the workspace directory by clicking on the orange Jupyter icon in the upper left, then using the Upload button.\n",
    "\n",
    "> Once you've done this, you can submit your project by clicking on the \"Submit Project\" button in the lower right here. This will create and submit a zip file with this .ipynb doc and the .html or .pdf version you created. Congratulations! "
   ]
  },
  {
   "cell_type": "code",
   "execution_count": 281,
   "metadata": {},
   "outputs": [
    {
     "data": {
      "text/plain": [
       "0"
      ]
     },
     "execution_count": 281,
     "metadata": {},
     "output_type": "execute_result"
    }
   ],
   "source": [
    "from subprocess import call\n",
    "call(['python', '-m', 'nbconvert', '--to', 'html', 'Recommendations_with_IBM.ipynb'])"
   ]
  },
  {
   "cell_type": "code",
   "execution_count": null,
   "metadata": {},
   "outputs": [],
   "source": []
  }
 ],
 "metadata": {
  "kernelspec": {
   "display_name": "Python 3 (ipykernel)",
   "language": "python",
   "name": "python3"
  },
  "language_info": {
   "codemirror_mode": {
    "name": "ipython",
    "version": 3
   },
   "file_extension": ".py",
   "mimetype": "text/x-python",
   "name": "python",
   "nbconvert_exporter": "python",
   "pygments_lexer": "ipython3",
   "version": "3.9.9"
  }
 },
 "nbformat": 4,
 "nbformat_minor": 2
}
